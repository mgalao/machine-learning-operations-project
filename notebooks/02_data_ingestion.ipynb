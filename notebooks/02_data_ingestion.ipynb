{
 "cells": [
  {
   "cell_type": "code",
   "execution_count": 1,
   "id": "686bf3d7",
   "metadata": {},
   "outputs": [],
   "source": [
    "# !pip install great-expectations==0.17.23 pandas==2.1.4\n",
    "# !pip install hopsworks\n",
    "# !pip install \"hopsworks[python]\""
   ]
  },
  {
   "cell_type": "code",
   "execution_count": 2,
   "id": "03e3b0d0",
   "metadata": {},
   "outputs": [],
   "source": [
    "import warnings\n",
    "warnings.filterwarnings(\"ignore\", category=DeprecationWarning)"
   ]
  },
  {
   "cell_type": "code",
   "execution_count": 3,
   "id": "6c7663ae",
   "metadata": {},
   "outputs": [],
   "source": [
    "# import os\n",
    "# os.environ[\"FS_API_KEY\"] = \"your_actual_api_key\"\n",
    "# os.environ[\"FS_PROJECT_NAME\"] = \"your_project_name\""
   ]
  },
  {
   "cell_type": "code",
   "execution_count": 4,
   "id": "520a7d79",
   "metadata": {},
   "outputs": [],
   "source": [
    "import os\n",
    "os.environ[\"FS_API_KEY\"] = \"bfZD5E0Cqo9uuxGI.cl2n86qlQIwutJJ7HryOdp32jjryfoRUyd0xdVxt2YCLY6YJ5PkudygHlCVGeEe8\"\n",
    "os.environ[\"FS_PROJECT_NAME\"] = \"MSc_MLOps\""
   ]
  },
  {
   "cell_type": "code",
   "execution_count": null,
   "id": "285762c7",
   "metadata": {},
   "outputs": [
    {
     "data": {
      "text/html": [
       "<pre style=\"white-space:pre;overflow-x:auto;line-height:normal;font-family:Menlo,'DejaVu Sans Mono',consolas,'Courier New',monospace\"><span style=\"color: #7fbfbf; text-decoration-color: #7fbfbf\">[06/19/25 20:05:12] </span><span style=\"color: #000080; text-decoration-color: #000080\">INFO    </span> Using                                                                  <span style=\"color: #7f7f7f; text-decoration-color: #7f7f7f\">__init__.py:272</span>\n",
       "<span style=\"color: #7fbfbf; text-decoration-color: #7fbfbf\">                    </span>         <span style=\"color: #008000; text-decoration-color: #008000\">'/Users/mgalao/Library/CloudStorage/OneDrive-NOVAIMS/MSc_DSAA-DS/2nd </span>  <span style=\"color: #7f7f7f; text-decoration-color: #7f7f7f\">               </span>\n",
       "<span style=\"color: #7fbfbf; text-decoration-color: #7fbfbf\">                    </span>         <span style=\"color: #008000; text-decoration-color: #008000\">Semester/Q4 Machine Learning </span>                                          <span style=\"color: #7f7f7f; text-decoration-color: #7f7f7f\">               </span>\n",
       "<span style=\"color: #7fbfbf; text-decoration-color: #7fbfbf\">                    </span>         <span style=\"color: #008000; text-decoration-color: #008000\">Operations/machine-learning-operations-project/venv/lib/python3.12/sit</span> <span style=\"color: #7f7f7f; text-decoration-color: #7f7f7f\">               </span>\n",
       "<span style=\"color: #7fbfbf; text-decoration-color: #7fbfbf\">                    </span>         <span style=\"color: #008000; text-decoration-color: #008000\">e-packages/kedro/framework/project/rich_logging.yml'</span> as logging        <span style=\"color: #7f7f7f; text-decoration-color: #7f7f7f\">               </span>\n",
       "<span style=\"color: #7fbfbf; text-decoration-color: #7fbfbf\">                    </span>         configuration.                                                         <span style=\"color: #7f7f7f; text-decoration-color: #7f7f7f\">               </span>\n",
       "</pre>\n"
      ],
      "text/plain": [
       "\u001b[2;36m[06/19/25 20:05:12]\u001b[0m\u001b[2;36m \u001b[0m\u001b[34mINFO    \u001b[0m Using                                                                  \u001b[2m__init__.py\u001b[0m\u001b[2m:\u001b[0m\u001b[2m272\u001b[0m\n",
       "\u001b[2;36m                    \u001b[0m         \u001b[32m'/Users/mgalao/Library/CloudStorage/OneDrive-NOVAIMS/MSc_DSAA-DS/2nd \u001b[0m  \u001b[2m               \u001b[0m\n",
       "\u001b[2;36m                    \u001b[0m         \u001b[32mSemester/Q4 Machine Learning \u001b[0m                                          \u001b[2m               \u001b[0m\n",
       "\u001b[2;36m                    \u001b[0m         \u001b[32mOperations/machine-learning-operations-project/venv/lib/python3.12/sit\u001b[0m \u001b[2m               \u001b[0m\n",
       "\u001b[2;36m                    \u001b[0m         \u001b[32me-packages/kedro/framework/project/rich_logging.yml'\u001b[0m as logging        \u001b[2m               \u001b[0m\n",
       "\u001b[2;36m                    \u001b[0m         configuration.                                                         \u001b[2m               \u001b[0m\n"
      ]
     },
     "metadata": {},
     "output_type": "display_data"
    },
    {
     "data": {
      "text/html": [
       "<pre style=\"white-space:pre;overflow-x:auto;line-height:normal;font-family:Menlo,'DejaVu Sans Mono',consolas,'Courier New',monospace\"><span style=\"color: #7fbfbf; text-decoration-color: #7fbfbf\">[06/19/25 20:05:13] </span><span style=\"color: #808000; text-decoration-color: #808000\">WARNING </span> <span style=\"font-weight: bold\">&lt;</span><span style=\"color: #ff00ff; text-decoration-color: #ff00ff; font-weight: bold\">frozen</span><span style=\"color: #000000; text-decoration-color: #000000\"> importlib._bootstrap</span><span style=\"font-weight: bold\">&gt;</span>:<span style=\"color: #008080; text-decoration-color: #008080; font-weight: bold\">488</span>: DeprecationWarning: Type            <a href=\"file:///opt/anaconda3/lib/python3.12/warnings.py\" target=\"_blank\"><span style=\"color: #7f7f7f; text-decoration-color: #7f7f7f\">warnings.py</span></a><span style=\"color: #7f7f7f; text-decoration-color: #7f7f7f\">:</span><a href=\"file:///opt/anaconda3/lib/python3.12/warnings.py#112\" target=\"_blank\"><span style=\"color: #7f7f7f; text-decoration-color: #7f7f7f\">112</span></a>\n",
       "<span style=\"color: #7fbfbf; text-decoration-color: #7fbfbf\">                    </span>         google._upb._message.MessageMapContainer uses PyType_Spec with a       <span style=\"color: #7f7f7f; text-decoration-color: #7f7f7f\">               </span>\n",
       "<span style=\"color: #7fbfbf; text-decoration-color: #7fbfbf\">                    </span>         metaclass that has custom tp_new. This is deprecated and will no       <span style=\"color: #7f7f7f; text-decoration-color: #7f7f7f\">               </span>\n",
       "<span style=\"color: #7fbfbf; text-decoration-color: #7fbfbf\">                    </span>         longer be allowed in Python <span style=\"color: #008080; text-decoration-color: #008080; font-weight: bold\">3.14</span>.                                      <span style=\"color: #7f7f7f; text-decoration-color: #7f7f7f\">               </span>\n",
       "<span style=\"color: #7fbfbf; text-decoration-color: #7fbfbf\">                    </span>                                                                                <span style=\"color: #7f7f7f; text-decoration-color: #7f7f7f\">               </span>\n",
       "</pre>\n"
      ],
      "text/plain": [
       "\u001b[2;36m[06/19/25 20:05:13]\u001b[0m\u001b[2;36m \u001b[0m\u001b[33mWARNING \u001b[0m \u001b[1m<\u001b[0m\u001b[1;95mfrozen\u001b[0m\u001b[39m importlib._bootstrap\u001b[0m\u001b[1m>\u001b[0m:\u001b[1;36m488\u001b[0m: DeprecationWarning: Type            \u001b]8;id=212362;file:///opt/anaconda3/lib/python3.12/warnings.py\u001b\\\u001b[2mwarnings.py\u001b[0m\u001b]8;;\u001b\\\u001b[2m:\u001b[0m\u001b]8;id=965974;file:///opt/anaconda3/lib/python3.12/warnings.py#112\u001b\\\u001b[2m112\u001b[0m\u001b]8;;\u001b\\\n",
       "\u001b[2;36m                    \u001b[0m         google._upb._message.MessageMapContainer uses PyType_Spec with a       \u001b[2m               \u001b[0m\n",
       "\u001b[2;36m                    \u001b[0m         metaclass that has custom tp_new. This is deprecated and will no       \u001b[2m               \u001b[0m\n",
       "\u001b[2;36m                    \u001b[0m         longer be allowed in Python \u001b[1;36m3.14\u001b[0m.                                      \u001b[2m               \u001b[0m\n",
       "\u001b[2;36m                    \u001b[0m                                                                                \u001b[2m               \u001b[0m\n"
      ]
     },
     "metadata": {},
     "output_type": "display_data"
    },
    {
     "data": {
      "text/html": [
       "<pre style=\"white-space:pre;overflow-x:auto;line-height:normal;font-family:Menlo,'DejaVu Sans Mono',consolas,'Courier New',monospace\"><span style=\"color: #7fbfbf; text-decoration-color: #7fbfbf\">                    </span><span style=\"color: #808000; text-decoration-color: #808000\">WARNING </span> <span style=\"font-weight: bold\">&lt;</span><span style=\"color: #ff00ff; text-decoration-color: #ff00ff; font-weight: bold\">frozen</span><span style=\"color: #000000; text-decoration-color: #000000\"> importlib._bootstrap</span><span style=\"font-weight: bold\">&gt;</span>:<span style=\"color: #008080; text-decoration-color: #008080; font-weight: bold\">488</span>: DeprecationWarning: Type            <a href=\"file:///opt/anaconda3/lib/python3.12/warnings.py\" target=\"_blank\"><span style=\"color: #7f7f7f; text-decoration-color: #7f7f7f\">warnings.py</span></a><span style=\"color: #7f7f7f; text-decoration-color: #7f7f7f\">:</span><a href=\"file:///opt/anaconda3/lib/python3.12/warnings.py#112\" target=\"_blank\"><span style=\"color: #7f7f7f; text-decoration-color: #7f7f7f\">112</span></a>\n",
       "<span style=\"color: #7fbfbf; text-decoration-color: #7fbfbf\">                    </span>         google._upb._message.ScalarMapContainer uses PyType_Spec with a        <span style=\"color: #7f7f7f; text-decoration-color: #7f7f7f\">               </span>\n",
       "<span style=\"color: #7fbfbf; text-decoration-color: #7fbfbf\">                    </span>         metaclass that has custom tp_new. This is deprecated and will no       <span style=\"color: #7f7f7f; text-decoration-color: #7f7f7f\">               </span>\n",
       "<span style=\"color: #7fbfbf; text-decoration-color: #7fbfbf\">                    </span>         longer be allowed in Python <span style=\"color: #008080; text-decoration-color: #008080; font-weight: bold\">3.14</span>.                                      <span style=\"color: #7f7f7f; text-decoration-color: #7f7f7f\">               </span>\n",
       "<span style=\"color: #7fbfbf; text-decoration-color: #7fbfbf\">                    </span>                                                                                <span style=\"color: #7f7f7f; text-decoration-color: #7f7f7f\">               </span>\n",
       "</pre>\n"
      ],
      "text/plain": [
       "\u001b[2;36m                   \u001b[0m\u001b[2;36m \u001b[0m\u001b[33mWARNING \u001b[0m \u001b[1m<\u001b[0m\u001b[1;95mfrozen\u001b[0m\u001b[39m importlib._bootstrap\u001b[0m\u001b[1m>\u001b[0m:\u001b[1;36m488\u001b[0m: DeprecationWarning: Type            \u001b]8;id=108244;file:///opt/anaconda3/lib/python3.12/warnings.py\u001b\\\u001b[2mwarnings.py\u001b[0m\u001b]8;;\u001b\\\u001b[2m:\u001b[0m\u001b]8;id=149086;file:///opt/anaconda3/lib/python3.12/warnings.py#112\u001b\\\u001b[2m112\u001b[0m\u001b]8;;\u001b\\\n",
       "\u001b[2;36m                    \u001b[0m         google._upb._message.ScalarMapContainer uses PyType_Spec with a        \u001b[2m               \u001b[0m\n",
       "\u001b[2;36m                    \u001b[0m         metaclass that has custom tp_new. This is deprecated and will no       \u001b[2m               \u001b[0m\n",
       "\u001b[2;36m                    \u001b[0m         longer be allowed in Python \u001b[1;36m3.14\u001b[0m.                                      \u001b[2m               \u001b[0m\n",
       "\u001b[2;36m                    \u001b[0m                                                                                \u001b[2m               \u001b[0m\n"
      ]
     },
     "metadata": {},
     "output_type": "display_data"
    }
   ],
   "source": [
    "import sys\n",
    "from pathlib import Path\n",
    "\n",
    "# Add the src folder to sys.path\n",
    "project_root = Path().resolve().parent  # from notebooks/, this is the root dir\n",
    "src_path = project_root / \"src\"\n",
    "sys.path.append(str(src_path))\n",
    "\n",
    "# Import the test_data module from the package\n",
    "from fraud_project.pipelines.ingestion.nodes import ingestion\n",
    "import pandas as pd"
   ]
  },
  {
   "cell_type": "markdown",
   "id": "6c4f7908",
   "metadata": {},
   "source": [
    "# With Fraud DF"
   ]
  },
  {
   "cell_type": "code",
   "execution_count": 6,
   "id": "ee3efd7c",
   "metadata": {},
   "outputs": [
    {
     "data": {
      "text/html": [
       "<pre style=\"white-space:pre;overflow-x:auto;line-height:normal;font-family:Menlo,'DejaVu Sans Mono',consolas,'Courier New',monospace\"></pre>\n"
      ],
      "text/plain": []
     },
     "metadata": {},
     "output_type": "display_data"
    },
    {
     "data": {
      "text/html": [
       "<div>\n",
       "<style scoped>\n",
       "    .dataframe tbody tr th:only-of-type {\n",
       "        vertical-align: middle;\n",
       "    }\n",
       "\n",
       "    .dataframe tbody tr th {\n",
       "        vertical-align: top;\n",
       "    }\n",
       "\n",
       "    .dataframe thead th {\n",
       "        text-align: right;\n",
       "    }\n",
       "</style>\n",
       "<table border=\"1\" class=\"dataframe\">\n",
       "  <thead>\n",
       "    <tr style=\"text-align: right;\">\n",
       "      <th></th>\n",
       "      <th>trans_date_trans_time</th>\n",
       "      <th>cc_num</th>\n",
       "      <th>merchant</th>\n",
       "      <th>category</th>\n",
       "      <th>amt</th>\n",
       "      <th>first</th>\n",
       "      <th>last</th>\n",
       "      <th>gender</th>\n",
       "      <th>street</th>\n",
       "      <th>city</th>\n",
       "      <th>...</th>\n",
       "      <th>long</th>\n",
       "      <th>city_pop</th>\n",
       "      <th>job</th>\n",
       "      <th>dob</th>\n",
       "      <th>trans_num</th>\n",
       "      <th>unix_time</th>\n",
       "      <th>merch_lat</th>\n",
       "      <th>merch_long</th>\n",
       "      <th>is_fraud</th>\n",
       "      <th>merch_zipcode</th>\n",
       "    </tr>\n",
       "  </thead>\n",
       "  <tbody>\n",
       "    <tr>\n",
       "      <th>0</th>\n",
       "      <td>2019-05-04 11:57:04</td>\n",
       "      <td>4586260469584</td>\n",
       "      <td>fraud_Kerluke Inc</td>\n",
       "      <td>misc_net</td>\n",
       "      <td>5.96</td>\n",
       "      <td>Melody</td>\n",
       "      <td>Thompson</td>\n",
       "      <td>F</td>\n",
       "      <td>0362 Anderson Wall</td>\n",
       "      <td>Mound City</td>\n",
       "      <td>...</td>\n",
       "      <td>-95.2138</td>\n",
       "      <td>1631</td>\n",
       "      <td>Architect</td>\n",
       "      <td>1953-01-20</td>\n",
       "      <td>3d21bce7967838c3988cfe0f7fca878a</td>\n",
       "      <td>1336132624</td>\n",
       "      <td>41.024651</td>\n",
       "      <td>-94.428240</td>\n",
       "      <td>0</td>\n",
       "      <td>50842.0</td>\n",
       "    </tr>\n",
       "    <tr>\n",
       "      <th>1</th>\n",
       "      <td>2019-12-14 08:55:21</td>\n",
       "      <td>4900628639996</td>\n",
       "      <td>fraud_Rempel PLC</td>\n",
       "      <td>grocery_net</td>\n",
       "      <td>70.66</td>\n",
       "      <td>Michael</td>\n",
       "      <td>Johnson</td>\n",
       "      <td>M</td>\n",
       "      <td>094 Owens Underpass</td>\n",
       "      <td>Norwalk</td>\n",
       "      <td>...</td>\n",
       "      <td>-118.0818</td>\n",
       "      <td>105549</td>\n",
       "      <td>Firefighter</td>\n",
       "      <td>1973-09-22</td>\n",
       "      <td>fda7712b4bbcaab36afded37ab55047f</td>\n",
       "      <td>1355475321</td>\n",
       "      <td>33.808771</td>\n",
       "      <td>-118.031888</td>\n",
       "      <td>0</td>\n",
       "      <td>90630.0</td>\n",
       "    </tr>\n",
       "    <tr>\n",
       "      <th>2</th>\n",
       "      <td>2019-03-30 05:21:33</td>\n",
       "      <td>676118385837</td>\n",
       "      <td>fraud_Rodriguez Group</td>\n",
       "      <td>gas_transport</td>\n",
       "      <td>50.92</td>\n",
       "      <td>Katelyn</td>\n",
       "      <td>Wise</td>\n",
       "      <td>F</td>\n",
       "      <td>674 Maureen Summit Apt. 276</td>\n",
       "      <td>Scotts Mills</td>\n",
       "      <td>...</td>\n",
       "      <td>-122.6187</td>\n",
       "      <td>1252</td>\n",
       "      <td>Engineer, petroleum</td>\n",
       "      <td>1937-02-06</td>\n",
       "      <td>59161e0002642934974c1ae98bfa1f55</td>\n",
       "      <td>1333084893</td>\n",
       "      <td>44.561034</td>\n",
       "      <td>-123.281803</td>\n",
       "      <td>0</td>\n",
       "      <td>97331.0</td>\n",
       "    </tr>\n",
       "    <tr>\n",
       "      <th>3</th>\n",
       "      <td>2019-09-19 07:09:46</td>\n",
       "      <td>3596357274378601</td>\n",
       "      <td>fraud_Doyle Ltd</td>\n",
       "      <td>grocery_pos</td>\n",
       "      <td>71.68</td>\n",
       "      <td>David</td>\n",
       "      <td>Everett</td>\n",
       "      <td>M</td>\n",
       "      <td>4138 David Fall</td>\n",
       "      <td>Morrisdale</td>\n",
       "      <td>...</td>\n",
       "      <td>-78.2357</td>\n",
       "      <td>3688</td>\n",
       "      <td>Advice worker</td>\n",
       "      <td>1973-05-27</td>\n",
       "      <td>f487a7098c0bd4d45f710be1745c4acb</td>\n",
       "      <td>1348038586</td>\n",
       "      <td>41.612825</td>\n",
       "      <td>-78.316893</td>\n",
       "      <td>0</td>\n",
       "      <td>15834.0</td>\n",
       "    </tr>\n",
       "    <tr>\n",
       "      <th>4</th>\n",
       "      <td>2019-02-04 20:37:44</td>\n",
       "      <td>6011542681743618</td>\n",
       "      <td>fraud_Leffler-Goldner</td>\n",
       "      <td>personal_care</td>\n",
       "      <td>29.17</td>\n",
       "      <td>Emily</td>\n",
       "      <td>Hall</td>\n",
       "      <td>F</td>\n",
       "      <td>8851 Reese Neck</td>\n",
       "      <td>Basye</td>\n",
       "      <td>...</td>\n",
       "      <td>-78.7776</td>\n",
       "      <td>863</td>\n",
       "      <td>Engineer, mining</td>\n",
       "      <td>1972-08-09</td>\n",
       "      <td>c2ed76f03cce8a6b362729a5a23f01c2</td>\n",
       "      <td>1328387864</td>\n",
       "      <td>39.387521</td>\n",
       "      <td>-79.674956</td>\n",
       "      <td>0</td>\n",
       "      <td>26444.0</td>\n",
       "    </tr>\n",
       "  </tbody>\n",
       "</table>\n",
       "<p>5 rows × 23 columns</p>\n",
       "</div>"
      ],
      "text/plain": [
       "\n",
       "  trans_date_trans_time            cc_num               merchant  \\\n",
       "\u001b[1;36m0\u001b[0m   \u001b[1;36m2019\u001b[0m-\u001b[1;36m05\u001b[0m-\u001b[1;36m04\u001b[0m \u001b[1;92m11:57:04\u001b[0m     \u001b[1;36m4586260469584\u001b[0m      fraud_Kerluke Inc   \n",
       "\u001b[1;36m1\u001b[0m   \u001b[1;36m2019\u001b[0m-\u001b[1;36m12\u001b[0m-\u001b[1;36m14\u001b[0m \u001b[1;92m08:55:21\u001b[0m     \u001b[1;36m4900628639996\u001b[0m       fraud_Rempel PLC   \n",
       "\u001b[1;36m2\u001b[0m   \u001b[1;36m2019\u001b[0m-\u001b[1;36m03\u001b[0m-\u001b[1;36m30\u001b[0m \u001b[1;92m05:21:33\u001b[0m      \u001b[1;36m676118385837\u001b[0m  fraud_Rodriguez Group   \n",
       "\u001b[1;36m3\u001b[0m   \u001b[1;36m2019\u001b[0m-\u001b[1;36m09\u001b[0m-\u001b[1;36m19\u001b[0m \u001b[1;92m07:09:46\u001b[0m  \u001b[1;36m3596357274378601\u001b[0m        fraud_Doyle Ltd   \n",
       "\u001b[1;36m4\u001b[0m   \u001b[1;36m2019\u001b[0m-\u001b[1;36m02\u001b[0m-\u001b[1;36m04\u001b[0m \u001b[1;92m20:37:44\u001b[0m  \u001b[1;36m6011542681743618\u001b[0m  fraud_Leffler-Goldner   \n",
       "\n",
       "        category    amt    first      last gender  \\\n",
       "\u001b[1;36m0\u001b[0m       misc_net   \u001b[1;36m5.96\u001b[0m   Melody  Thompson      F   \n",
       "\u001b[1;36m1\u001b[0m    grocery_net  \u001b[1;36m70.66\u001b[0m  Michael   Johnson      M   \n",
       "\u001b[1;36m2\u001b[0m  gas_transport  \u001b[1;36m50.92\u001b[0m  Katelyn      Wise      F   \n",
       "\u001b[1;36m3\u001b[0m    grocery_pos  \u001b[1;36m71.68\u001b[0m    David   Everett      M   \n",
       "\u001b[1;36m4\u001b[0m  personal_care  \u001b[1;36m29.17\u001b[0m    Emily      Hall      F   \n",
       "\n",
       "                        street          city  \u001b[33m...\u001b[0m      long  city_pop  \\\n",
       "\u001b[1;36m0\u001b[0m           \u001b[1;36m0362\u001b[0m Anderson Wall    Mound City  \u001b[33m...\u001b[0m  \u001b[1;36m-95.2138\u001b[0m      \u001b[1;36m1631\u001b[0m   \n",
       "\u001b[1;36m1\u001b[0m          \u001b[1;36m094\u001b[0m Owens Underpass       Norwalk  \u001b[33m...\u001b[0m \u001b[1;36m-118.0818\u001b[0m    \u001b[1;36m105549\u001b[0m   \n",
       "\u001b[1;36m2\u001b[0m  \u001b[1;36m674\u001b[0m Maureen Summit Apt. \u001b[1;36m276\u001b[0m  Scotts Mills  \u001b[33m...\u001b[0m \u001b[1;36m-122.6187\u001b[0m      \u001b[1;36m1252\u001b[0m   \n",
       "\u001b[1;36m3\u001b[0m              \u001b[1;36m4138\u001b[0m David Fall    Morrisdale  \u001b[33m...\u001b[0m  \u001b[1;36m-78.2357\u001b[0m      \u001b[1;36m3688\u001b[0m   \n",
       "\u001b[1;36m4\u001b[0m              \u001b[1;36m8851\u001b[0m Reese Neck         Basye  \u001b[33m...\u001b[0m  \u001b[1;36m-78.7776\u001b[0m       \u001b[1;36m863\u001b[0m   \n",
       "\n",
       "                   job         dob                         trans_num  \\\n",
       "\u001b[1;36m0\u001b[0m            Architect  \u001b[1;36m1953\u001b[0m-\u001b[1;36m01\u001b[0m-\u001b[1;36m20\u001b[0m  3d21bce7967838c3988cfe0f7fca878a   \n",
       "\u001b[1;36m1\u001b[0m          Firefighter  \u001b[1;36m1973\u001b[0m-\u001b[1;36m09\u001b[0m-\u001b[1;36m22\u001b[0m  fda7712b4bbcaab36afded37ab55047f   \n",
       "\u001b[1;36m2\u001b[0m  Engineer, petroleum  \u001b[1;36m1937\u001b[0m-\u001b[1;36m02\u001b[0m-\u001b[1;36m06\u001b[0m  59161e0002642934974c1ae98bfa1f55   \n",
       "\u001b[1;36m3\u001b[0m        Advice worker  \u001b[1;36m1973\u001b[0m-\u001b[1;36m05\u001b[0m-\u001b[1;36m27\u001b[0m  f487a7098c0bd4d45f710be1745c4acb   \n",
       "\u001b[1;36m4\u001b[0m     Engineer, mining  \u001b[1;36m1972\u001b[0m-\u001b[1;36m08\u001b[0m-\u001b[1;36m09\u001b[0m  c2ed76f03cce8a6b362729a5a23f01c2   \n",
       "\n",
       "    unix_time  merch_lat  merch_long  is_fraud  merch_zipcode  \n",
       "\u001b[1;36m0\u001b[0m  \u001b[1;36m1336132624\u001b[0m  \u001b[1;36m41.024651\u001b[0m  \u001b[1;36m-94.428240\u001b[0m         \u001b[1;36m0\u001b[0m        \u001b[1;36m50842.0\u001b[0m  \n",
       "\u001b[1;36m1\u001b[0m  \u001b[1;36m1355475321\u001b[0m  \u001b[1;36m33.808771\u001b[0m \u001b[1;36m-118.031888\u001b[0m         \u001b[1;36m0\u001b[0m        \u001b[1;36m90630.0\u001b[0m  \n",
       "\u001b[1;36m2\u001b[0m  \u001b[1;36m1333084893\u001b[0m  \u001b[1;36m44.561034\u001b[0m \u001b[1;36m-123.281803\u001b[0m         \u001b[1;36m0\u001b[0m        \u001b[1;36m97331.0\u001b[0m  \n",
       "\u001b[1;36m3\u001b[0m  \u001b[1;36m1348038586\u001b[0m  \u001b[1;36m41.612825\u001b[0m  \u001b[1;36m-78.316893\u001b[0m         \u001b[1;36m0\u001b[0m        \u001b[1;36m15834.0\u001b[0m  \n",
       "\u001b[1;36m4\u001b[0m  \u001b[1;36m1328387864\u001b[0m  \u001b[1;36m39.387521\u001b[0m  \u001b[1;36m-79.674956\u001b[0m         \u001b[1;36m0\u001b[0m        \u001b[1;36m26444.0\u001b[0m  \n",
       "\n",
       "\u001b[1m[\u001b[0m\u001b[1;36m5\u001b[0m rows x \u001b[1;36m23\u001b[0m columns\u001b[1m]\u001b[0m"
      ]
     },
     "execution_count": 6,
     "metadata": {},
     "output_type": "execute_result"
    }
   ],
   "source": [
    "df = pd.read_csv('../data/01_raw/data_v1.csv')\n",
    "df.head()"
   ]
  },
  {
   "cell_type": "code",
   "execution_count": 7,
   "id": "a34ede75",
   "metadata": {},
   "outputs": [
    {
     "name": "stdout",
     "output_type": "stream",
     "text": [
      "{'target_column': 'is_fraud', 'to_feature_store': True, 'test_fraction': 0.3, 'random_state': 2021, 'run_name': 'full_project', 'use_feature_selection': False, 'feature_selection': 'rfe', 'model_name': 'fraud', 'baseline_model_params': {'n_estimators': 100, 'max_depth': 6, 'max_features': 20, 'random_state': 2021}, 'hyperparameters': {'RandomForestClassifier': {'n_estimators': [100, 200, 300], 'max_depth': [5, 10, 20], 'max_features': [0.5, 0.7, 1], 'random_state': [2021]}, 'GradientBoostingClassifier': {'n_estimators': [100, 200, 300], 'max_depth': [5, 10, 20], 'max_features': [0.5, 0.7, 1], 'random_state': [2021]}}}\n"
     ]
    }
   ],
   "source": [
    "# Load the configuration parameters\n",
    "from pathlib import Path\n",
    "from kedro.config import OmegaConfigLoader\n",
    "\n",
    "conf_path = Path('../conf').resolve()\n",
    "conf_loader = OmegaConfigLoader(conf_source=conf_path)\n",
    "parameters = conf_loader[\"parameters\"]\n",
    "\n",
    "print(parameters)"
   ]
  },
  {
   "cell_type": "code",
   "execution_count": 8,
   "id": "f959b13f",
   "metadata": {},
   "outputs": [
    {
     "name": "stdout",
     "output_type": "stream",
     "text": [
      "\n",
      "Logged in to project, explore it here https://c.app.hopsworks.ai:443/p/1224874\n",
      "Column 'trans_num' type: <class 'pandas.core.series.Series'>\n",
      "Column 'datetime' type: <class 'pandas.core.series.Series'>\n",
      "Column 'amt' type: <class 'pandas.core.series.Series'>\n",
      "Column 'lat' type: <class 'pandas.core.series.Series'>\n",
      "Column 'long' type: <class 'pandas.core.series.Series'>\n",
      "Column 'city_pop' type: <class 'pandas.core.series.Series'>\n",
      "Column 'unix_time' type: <class 'pandas.core.series.Series'>\n",
      "Column 'merch_lat' type: <class 'pandas.core.series.Series'>\n",
      "Column 'merch_long' type: <class 'pandas.core.series.Series'>\n",
      "Column 'age' type: <class 'pandas.core.series.Series'>\n",
      "Validation failed.\n",
      "Validation Report saved successfully, explore a summary at https://c.app.hopsworks.ai:443/p/1224874/fs/1212504/fg/1484333\n"
     ]
    },
    {
     "name": "stderr",
     "output_type": "stream",
     "text": [
      "Uploading Dataframe: 100.00% |██████████| Rows 90767/90767 | Elapsed Time: 00:03 | Remaining Time: 00:00\n"
     ]
    },
    {
     "name": "stdout",
     "output_type": "stream",
     "text": [
      "Launching job: numerical_features_1_offline_fg_materialization\n",
      "Job started successfully, you can follow the progress at \n",
      "https://c.app.hopsworks.ai:443/p/1224874/jobs/named/numerical_features_1_offline_fg_materialization/executions\n",
      "Connection closed.\n",
      "\n",
      "Logged in to project, explore it here https://c.app.hopsworks.ai:443/p/1224874\n",
      "Column 'trans_num' type: <class 'pandas.core.series.Series'>\n",
      "Column 'datetime' type: <class 'pandas.core.series.Series'>\n",
      "Column 'cc_num' type: <class 'pandas.core.series.Series'>\n",
      "Column 'merchant' type: <class 'pandas.core.series.Series'>\n",
      "Column 'category' type: <class 'pandas.core.series.Series'>\n",
      "Column 'first' type: <class 'pandas.core.series.Series'>\n",
      "Column 'last' type: <class 'pandas.core.series.Series'>\n",
      "Column 'gender' type: <class 'pandas.core.series.Series'>\n",
      "Column 'street' type: <class 'pandas.core.series.Series'>\n",
      "Column 'city' type: <class 'pandas.core.series.Series'>\n",
      "Column 'state' type: <class 'pandas.core.series.Series'>\n",
      "Column 'zip' type: <class 'pandas.core.series.Series'>\n",
      "Column 'job' type: <class 'pandas.core.series.Series'>\n",
      "Column 'merch_zipcode' type: <class 'pandas.core.series.Series'>\n",
      "Feature Group created successfully, explore it at \n",
      "https://c.app.hopsworks.ai:443/p/1224874/fs/1212504/fg/1484334\n",
      "Validation succeeded.\n",
      "Validation Report saved successfully, explore a summary at https://c.app.hopsworks.ai:443/p/1224874/fs/1212504/fg/1484334\n"
     ]
    },
    {
     "name": "stderr",
     "output_type": "stream",
     "text": [
      "Uploading Dataframe: 100.00% |██████████| Rows 90767/90767 | Elapsed Time: 00:03 | Remaining Time: 00:00\n"
     ]
    },
    {
     "name": "stdout",
     "output_type": "stream",
     "text": [
      "Launching job: categorical_features_1_offline_fg_materialization\n",
      "Job started successfully, you can follow the progress at \n",
      "https://c.app.hopsworks.ai:443/p/1224874/jobs/named/categorical_features_1_offline_fg_materialization/executions\n",
      "Connection closed.\n",
      "\n",
      "Logged in to project, explore it here https://c.app.hopsworks.ai:443/p/1224874\n",
      "Column 'trans_num' type: <class 'pandas.core.series.Series'>\n",
      "Column 'datetime' type: <class 'pandas.core.series.Series'>\n",
      "Column 'is_fraud' type: <class 'pandas.core.series.Series'>\n",
      "Feature Group created successfully, explore it at \n",
      "https://c.app.hopsworks.ai:443/p/1224874/fs/1212504/fg/1484335\n",
      "Validation succeeded.\n",
      "Validation Report saved successfully, explore a summary at https://c.app.hopsworks.ai:443/p/1224874/fs/1212504/fg/1484335\n"
     ]
    },
    {
     "name": "stderr",
     "output_type": "stream",
     "text": [
      "Uploading Dataframe: 100.00% |██████████| Rows 90767/90767 | Elapsed Time: 00:02 | Remaining Time: 00:00\n"
     ]
    },
    {
     "name": "stdout",
     "output_type": "stream",
     "text": [
      "Launching job: target_features_1_offline_fg_materialization\n",
      "Job started successfully, you can follow the progress at \n",
      "https://c.app.hopsworks.ai:443/p/1224874/jobs/named/target_features_1_offline_fg_materialization/executions\n",
      "Statistics Job started successfully, you can follow the progress at \n",
      "http://c.app.hopsworks.ai/p/1224874/jobs/named/target_features_1_compute_stats_19062025191431/executions\n"
     ]
    }
   ],
   "source": [
    "df.sample(100)\n",
    "df_processed = ingestion(df, parameters)"
   ]
  },
  {
   "cell_type": "markdown",
   "id": "30d91659",
   "metadata": {},
   "source": [
    "# With fraud DF"
   ]
  },
  {
   "cell_type": "code",
   "execution_count": null,
   "id": "140f62b9",
   "metadata": {},
   "outputs": [
    {
     "data": {
      "text/html": [
       "<pre style=\"white-space:pre;overflow-x:auto;line-height:normal;font-family:Menlo,'DejaVu Sans Mono',consolas,'Courier New',monospace\"></pre>\n"
      ],
      "text/plain": []
     },
     "metadata": {},
     "output_type": "display_data"
    },
    {
     "data": {
      "text/html": [
       "<div>\n",
       "<style scoped>\n",
       "    .dataframe tbody tr th:only-of-type {\n",
       "        vertical-align: middle;\n",
       "    }\n",
       "\n",
       "    .dataframe tbody tr th {\n",
       "        vertical-align: top;\n",
       "    }\n",
       "\n",
       "    .dataframe thead th {\n",
       "        text-align: right;\n",
       "    }\n",
       "</style>\n",
       "<table border=\"1\" class=\"dataframe\">\n",
       "  <thead>\n",
       "    <tr style=\"text-align: right;\">\n",
       "      <th></th>\n",
       "      <th>age</th>\n",
       "      <th>job</th>\n",
       "      <th>marital</th>\n",
       "      <th>education</th>\n",
       "      <th>default</th>\n",
       "      <th>balance</th>\n",
       "      <th>housing</th>\n",
       "      <th>loan</th>\n",
       "      <th>contact</th>\n",
       "      <th>day</th>\n",
       "      <th>month</th>\n",
       "      <th>duration</th>\n",
       "      <th>campaign</th>\n",
       "      <th>pdays</th>\n",
       "      <th>previous</th>\n",
       "      <th>poutcome</th>\n",
       "      <th>y</th>\n",
       "    </tr>\n",
       "  </thead>\n",
       "  <tbody>\n",
       "    <tr>\n",
       "      <th>0</th>\n",
       "      <td>58</td>\n",
       "      <td>management</td>\n",
       "      <td>married</td>\n",
       "      <td>tertiary</td>\n",
       "      <td>no</td>\n",
       "      <td>2143</td>\n",
       "      <td>yes</td>\n",
       "      <td>no</td>\n",
       "      <td>unknown</td>\n",
       "      <td>5</td>\n",
       "      <td>may</td>\n",
       "      <td>261</td>\n",
       "      <td>1</td>\n",
       "      <td>-1</td>\n",
       "      <td>0</td>\n",
       "      <td>unknown</td>\n",
       "      <td>no</td>\n",
       "    </tr>\n",
       "    <tr>\n",
       "      <th>1</th>\n",
       "      <td>44</td>\n",
       "      <td>technician</td>\n",
       "      <td>single</td>\n",
       "      <td>secondary</td>\n",
       "      <td>no</td>\n",
       "      <td>29</td>\n",
       "      <td>yes</td>\n",
       "      <td>no</td>\n",
       "      <td>unknown</td>\n",
       "      <td>5</td>\n",
       "      <td>may</td>\n",
       "      <td>151</td>\n",
       "      <td>1</td>\n",
       "      <td>-1</td>\n",
       "      <td>0</td>\n",
       "      <td>unknown</td>\n",
       "      <td>no</td>\n",
       "    </tr>\n",
       "    <tr>\n",
       "      <th>2</th>\n",
       "      <td>33</td>\n",
       "      <td>entrepreneur</td>\n",
       "      <td>married</td>\n",
       "      <td>secondary</td>\n",
       "      <td>no</td>\n",
       "      <td>2</td>\n",
       "      <td>yes</td>\n",
       "      <td>yes</td>\n",
       "      <td>unknown</td>\n",
       "      <td>5</td>\n",
       "      <td>may</td>\n",
       "      <td>76</td>\n",
       "      <td>1</td>\n",
       "      <td>-1</td>\n",
       "      <td>0</td>\n",
       "      <td>unknown</td>\n",
       "      <td>no</td>\n",
       "    </tr>\n",
       "    <tr>\n",
       "      <th>3</th>\n",
       "      <td>47</td>\n",
       "      <td>blue-collar</td>\n",
       "      <td>married</td>\n",
       "      <td>unknown</td>\n",
       "      <td>no</td>\n",
       "      <td>1506</td>\n",
       "      <td>yes</td>\n",
       "      <td>no</td>\n",
       "      <td>unknown</td>\n",
       "      <td>5</td>\n",
       "      <td>may</td>\n",
       "      <td>92</td>\n",
       "      <td>1</td>\n",
       "      <td>-1</td>\n",
       "      <td>0</td>\n",
       "      <td>unknown</td>\n",
       "      <td>no</td>\n",
       "    </tr>\n",
       "    <tr>\n",
       "      <th>4</th>\n",
       "      <td>33</td>\n",
       "      <td>unknown</td>\n",
       "      <td>single</td>\n",
       "      <td>unknown</td>\n",
       "      <td>no</td>\n",
       "      <td>1</td>\n",
       "      <td>no</td>\n",
       "      <td>no</td>\n",
       "      <td>unknown</td>\n",
       "      <td>5</td>\n",
       "      <td>may</td>\n",
       "      <td>198</td>\n",
       "      <td>1</td>\n",
       "      <td>-1</td>\n",
       "      <td>0</td>\n",
       "      <td>unknown</td>\n",
       "      <td>no</td>\n",
       "    </tr>\n",
       "  </tbody>\n",
       "</table>\n",
       "</div>"
      ],
      "text/plain": [
       "\n",
       "   age           job  marital  education default  balance housing loan  \\\n",
       "\u001b[1;36m0\u001b[0m   \u001b[1;36m58\u001b[0m    management  married   tertiary      no     \u001b[1;36m2143\u001b[0m     yes   no   \n",
       "\u001b[1;36m1\u001b[0m   \u001b[1;36m44\u001b[0m    technician   single  secondary      no       \u001b[1;36m29\u001b[0m     yes   no   \n",
       "\u001b[1;36m2\u001b[0m   \u001b[1;36m33\u001b[0m  entrepreneur  married  secondary      no        \u001b[1;36m2\u001b[0m     yes  yes   \n",
       "\u001b[1;36m3\u001b[0m   \u001b[1;36m47\u001b[0m   blue-collar  married    unknown      no     \u001b[1;36m1506\u001b[0m     yes   no   \n",
       "\u001b[1;36m4\u001b[0m   \u001b[1;36m33\u001b[0m       unknown   single    unknown      no        \u001b[1;36m1\u001b[0m      no   no   \n",
       "\n",
       "   contact  day month  duration  campaign  pdays  previous poutcome   y  \n",
       "\u001b[1;36m0\u001b[0m  unknown    \u001b[1;36m5\u001b[0m   may       \u001b[1;36m261\u001b[0m         \u001b[1;36m1\u001b[0m     \u001b[1;36m-1\u001b[0m         \u001b[1;36m0\u001b[0m  unknown  no  \n",
       "\u001b[1;36m1\u001b[0m  unknown    \u001b[1;36m5\u001b[0m   may       \u001b[1;36m151\u001b[0m         \u001b[1;36m1\u001b[0m     \u001b[1;36m-1\u001b[0m         \u001b[1;36m0\u001b[0m  unknown  no  \n",
       "\u001b[1;36m2\u001b[0m  unknown    \u001b[1;36m5\u001b[0m   may        \u001b[1;36m76\u001b[0m         \u001b[1;36m1\u001b[0m     \u001b[1;36m-1\u001b[0m         \u001b[1;36m0\u001b[0m  unknown  no  \n",
       "\u001b[1;36m3\u001b[0m  unknown    \u001b[1;36m5\u001b[0m   may        \u001b[1;36m92\u001b[0m         \u001b[1;36m1\u001b[0m     \u001b[1;36m-1\u001b[0m         \u001b[1;36m0\u001b[0m  unknown  no  \n",
       "\u001b[1;36m4\u001b[0m  unknown    \u001b[1;36m5\u001b[0m   may       \u001b[1;36m198\u001b[0m         \u001b[1;36m1\u001b[0m     \u001b[1;36m-1\u001b[0m         \u001b[1;36m0\u001b[0m  unknown  no  "
      ]
     },
     "execution_count": 81,
     "metadata": {},
     "output_type": "execute_result"
    }
   ],
   "source": [
    "df_fraud_data_additional = pd.read_csv('../data/01_raw/bank_data_additional.csv')\n",
    "df_fraud_data_additional.head()"
   ]
  },
  {
   "cell_type": "code",
   "execution_count": 82,
   "id": "1c80cba2",
   "metadata": {},
   "outputs": [
    {
     "data": {
      "application/vnd.jupyter.widget-view+json": {
       "model_id": "82208369fafb41788084ec8a74bee5e7",
       "version_major": 2,
       "version_minor": 0
      },
      "text/plain": [
       "Calculating Metrics:   0%|          | 0/18 [00:00<?, ?it/s]"
      ]
     },
     "metadata": {},
     "output_type": "display_data"
    },
    {
     "data": {
      "text/html": [
       "<pre style=\"white-space:pre;overflow-x:auto;line-height:normal;font-family:Menlo,'DejaVu Sans Mono',consolas,'Courier New',monospace\"></pre>\n"
      ],
      "text/plain": []
     },
     "metadata": {},
     "output_type": "display_data"
    },
    {
     "data": {
      "text/html": [
       "<div>\n",
       "<style scoped>\n",
       "    .dataframe tbody tr th:only-of-type {\n",
       "        vertical-align: middle;\n",
       "    }\n",
       "\n",
       "    .dataframe tbody tr th {\n",
       "        vertical-align: top;\n",
       "    }\n",
       "\n",
       "    .dataframe thead th {\n",
       "        text-align: right;\n",
       "    }\n",
       "</style>\n",
       "<table border=\"1\" class=\"dataframe\">\n",
       "  <thead>\n",
       "    <tr style=\"text-align: right;\">\n",
       "      <th></th>\n",
       "      <th>Success</th>\n",
       "      <th>Expectation Type</th>\n",
       "      <th>Column</th>\n",
       "      <th>Column Pair</th>\n",
       "      <th>Max Value</th>\n",
       "      <th>Min Value</th>\n",
       "      <th>Element Count</th>\n",
       "      <th>Unexpected Count</th>\n",
       "      <th>Unexpected Percent</th>\n",
       "      <th>Value Set</th>\n",
       "      <th>Unexpected Value</th>\n",
       "      <th>Observed Value</th>\n",
       "    </tr>\n",
       "  </thead>\n",
       "  <tbody>\n",
       "    <tr>\n",
       "      <th>0</th>\n",
       "      <td>True</td>\n",
       "      <td>expect_column_distinct_values_to_be_in_set</td>\n",
       "      <td>marital</td>\n",
       "      <td>(, )</td>\n",
       "      <td></td>\n",
       "      <td></td>\n",
       "      <td></td>\n",
       "      <td></td>\n",
       "      <td></td>\n",
       "      <td>[married, single, divorced]</td>\n",
       "      <td>[]</td>\n",
       "      <td>[divorced, married, single]</td>\n",
       "    </tr>\n",
       "    <tr>\n",
       "      <th>1</th>\n",
       "      <td>False</td>\n",
       "      <td>expect_column_values_to_be_between</td>\n",
       "      <td>balance</td>\n",
       "      <td>(, )</td>\n",
       "      <td>105000</td>\n",
       "      <td>0</td>\n",
       "      <td>45211</td>\n",
       "      <td>3766</td>\n",
       "      <td>8.329831</td>\n",
       "      <td></td>\n",
       "      <td>[]</td>\n",
       "      <td></td>\n",
       "    </tr>\n",
       "    <tr>\n",
       "      <th>2</th>\n",
       "      <td>True</td>\n",
       "      <td>expect_column_values_to_be_between</td>\n",
       "      <td>age</td>\n",
       "      <td>(, )</td>\n",
       "      <td>100</td>\n",
       "      <td>18</td>\n",
       "      <td>45211</td>\n",
       "      <td>0</td>\n",
       "      <td>0.0</td>\n",
       "      <td></td>\n",
       "      <td>[]</td>\n",
       "      <td></td>\n",
       "    </tr>\n",
       "  </tbody>\n",
       "</table>\n",
       "</div>"
      ],
      "text/plain": [
       "\n",
       "  Success                            Expectation Type   Column Column Pair  \\\n",
       "\u001b[1;36m0\u001b[0m    \u001b[3;92mTrue\u001b[0m  expect_column_distinct_values_to_be_in_set  marital        \u001b[1m(\u001b[0m, \u001b[1m)\u001b[0m   \n",
       "\u001b[1;36m1\u001b[0m   \u001b[3;91mFalse\u001b[0m          expect_column_values_to_be_between  balance        \u001b[1m(\u001b[0m, \u001b[1m)\u001b[0m   \n",
       "\u001b[1;36m2\u001b[0m    \u001b[3;92mTrue\u001b[0m          expect_column_values_to_be_between      age        \u001b[1m(\u001b[0m, \u001b[1m)\u001b[0m   \n",
       "\n",
       "  Max Value Min Value Element Count Unexpected Count Unexpected Percent  \\\n",
       "\u001b[1;36m0\u001b[0m                                                                         \n",
       "\u001b[1;36m1\u001b[0m    \u001b[1;36m105000\u001b[0m         \u001b[1;36m0\u001b[0m         \u001b[1;36m45211\u001b[0m             \u001b[1;36m3766\u001b[0m           \u001b[1;36m8.329831\u001b[0m   \n",
       "\u001b[1;36m2\u001b[0m       \u001b[1;36m100\u001b[0m        \u001b[1;36m18\u001b[0m         \u001b[1;36m45211\u001b[0m                \u001b[1;36m0\u001b[0m                \u001b[1;36m0.0\u001b[0m   \n",
       "\n",
       "                     Value Set Unexpected Value               Observed Value  \n",
       "\u001b[1;36m0\u001b[0m  \u001b[1m[\u001b[0mmarried, single, divorced\u001b[1m]\u001b[0m               \u001b[1m[\u001b[0m\u001b[1m]\u001b[0m  \u001b[1m[\u001b[0mdivorced, married, single\u001b[1m]\u001b[0m  \n",
       "\u001b[1;36m1\u001b[0m                                            \u001b[1m[\u001b[0m\u001b[1m]\u001b[0m                               \n",
       "\u001b[1;36m2\u001b[0m                                            \u001b[1m[\u001b[0m\u001b[1m]\u001b[0m                               "
      ]
     },
     "execution_count": 82,
     "metadata": {},
     "output_type": "execute_result"
    }
   ],
   "source": [
    "test_data(df_fraud_data_additional)"
   ]
  }
 ],
 "metadata": {
  "kernelspec": {
   "display_name": "venv",
   "language": "python",
   "name": "python3"
  },
  "language_info": {
   "codemirror_mode": {
    "name": "ipython",
    "version": 3
   },
   "file_extension": ".py",
   "mimetype": "text/x-python",
   "name": "python",
   "nbconvert_exporter": "python",
   "pygments_lexer": "ipython3",
   "version": "3.12.4"
  }
 },
 "nbformat": 4,
 "nbformat_minor": 5
}
