{
 "cells": [
  {
   "cell_type": "markdown",
   "id": "5286316c",
   "metadata": {},
   "source": [
    "# Machine Learning Operations - Preprocessing"
   ]
  },
  {
   "cell_type": "markdown",
   "id": "7125d073",
   "metadata": {},
   "source": [
    "This notebook was developed by:\n",
    "\n",
    "- Bruna Simões (20240491)\n",
    "- Daniel Caridade (20211588)\n",
    "- Leonardo Di Caterina (20240485)\n",
    "- Marco Galão (r20201545)"
   ]
  },
  {
   "cell_type": "markdown",
   "id": "7714b334",
   "metadata": {},
   "source": [
    "# 1. Libraries Importation"
   ]
  },
  {
   "cell_type": "markdown",
   "id": "e8010a99",
   "metadata": {},
   "source": [
    "__`Step 1`__ Import the necessary libraries."
   ]
  },
  {
   "cell_type": "code",
   "execution_count": null,
   "id": "913d682e",
   "metadata": {},
   "outputs": [],
   "source": [
    "from fraud_project.utils import *"
   ]
  },
  {
   "cell_type": "code",
   "execution_count": 11,
   "id": "4a1c9339",
   "metadata": {},
   "outputs": [],
   "source": [
    "# Helper function from the GitHub repository\n",
    "# Path of project root\n",
    "project_root = Path().resolve().parents[1]\n",
    "\n",
    "# Add the project root directory to Python's module search path\n",
    "sys.path.append(str(project_root))"
   ]
  },
  {
   "cell_type": "markdown",
   "id": "cb63e9f0",
   "metadata": {},
   "source": [
    "# 2. Data Integration "
   ]
  },
  {
   "cell_type": "markdown",
   "id": "3e25aa6a",
   "metadata": {},
   "source": [
    "__`Step 2`__ Importing the dataset into the notebook, ignoring the first columns as it does not contain relevant information."
   ]
  },
  {
   "cell_type": "code",
   "execution_count": 12,
   "id": "02126504",
   "metadata": {},
   "outputs": [
    {
     "data": {
      "text/html": [
       "<div>\n",
       "<style scoped>\n",
       "    .dataframe tbody tr th:only-of-type {\n",
       "        vertical-align: middle;\n",
       "    }\n",
       "\n",
       "    .dataframe tbody tr th {\n",
       "        vertical-align: top;\n",
       "    }\n",
       "\n",
       "    .dataframe thead th {\n",
       "        text-align: right;\n",
       "    }\n",
       "</style>\n",
       "<table border=\"1\" class=\"dataframe\">\n",
       "  <thead>\n",
       "    <tr style=\"text-align: right;\">\n",
       "      <th></th>\n",
       "      <th>trans_date_trans_time</th>\n",
       "      <th>cc_num</th>\n",
       "      <th>merchant</th>\n",
       "      <th>category</th>\n",
       "      <th>amt</th>\n",
       "      <th>first</th>\n",
       "      <th>last</th>\n",
       "      <th>gender</th>\n",
       "      <th>street</th>\n",
       "      <th>city</th>\n",
       "      <th>...</th>\n",
       "      <th>long</th>\n",
       "      <th>city_pop</th>\n",
       "      <th>job</th>\n",
       "      <th>dob</th>\n",
       "      <th>trans_num</th>\n",
       "      <th>unix_time</th>\n",
       "      <th>merch_lat</th>\n",
       "      <th>merch_long</th>\n",
       "      <th>is_fraud</th>\n",
       "      <th>merch_zipcode</th>\n",
       "    </tr>\n",
       "  </thead>\n",
       "  <tbody>\n",
       "    <tr>\n",
       "      <th>0</th>\n",
       "      <td>2019-05-04 11:57:04</td>\n",
       "      <td>4586260469584</td>\n",
       "      <td>fraud_Kerluke Inc</td>\n",
       "      <td>misc_net</td>\n",
       "      <td>5.96</td>\n",
       "      <td>Melody</td>\n",
       "      <td>Thompson</td>\n",
       "      <td>F</td>\n",
       "      <td>0362 Anderson Wall</td>\n",
       "      <td>Mound City</td>\n",
       "      <td>...</td>\n",
       "      <td>-95.2138</td>\n",
       "      <td>1631</td>\n",
       "      <td>Architect</td>\n",
       "      <td>1953-01-20</td>\n",
       "      <td>3d21bce7967838c3988cfe0f7fca878a</td>\n",
       "      <td>1336132624</td>\n",
       "      <td>41.024651</td>\n",
       "      <td>-94.428240</td>\n",
       "      <td>0</td>\n",
       "      <td>50842.0</td>\n",
       "    </tr>\n",
       "    <tr>\n",
       "      <th>1</th>\n",
       "      <td>2019-12-14 08:55:21</td>\n",
       "      <td>4900628639996</td>\n",
       "      <td>fraud_Rempel PLC</td>\n",
       "      <td>grocery_net</td>\n",
       "      <td>70.66</td>\n",
       "      <td>Michael</td>\n",
       "      <td>Johnson</td>\n",
       "      <td>M</td>\n",
       "      <td>094 Owens Underpass</td>\n",
       "      <td>Norwalk</td>\n",
       "      <td>...</td>\n",
       "      <td>-118.0818</td>\n",
       "      <td>105549</td>\n",
       "      <td>Firefighter</td>\n",
       "      <td>1973-09-22</td>\n",
       "      <td>fda7712b4bbcaab36afded37ab55047f</td>\n",
       "      <td>1355475321</td>\n",
       "      <td>33.808771</td>\n",
       "      <td>-118.031888</td>\n",
       "      <td>0</td>\n",
       "      <td>90630.0</td>\n",
       "    </tr>\n",
       "    <tr>\n",
       "      <th>2</th>\n",
       "      <td>2019-03-30 05:21:33</td>\n",
       "      <td>676118385837</td>\n",
       "      <td>fraud_Rodriguez Group</td>\n",
       "      <td>gas_transport</td>\n",
       "      <td>50.92</td>\n",
       "      <td>Katelyn</td>\n",
       "      <td>Wise</td>\n",
       "      <td>F</td>\n",
       "      <td>674 Maureen Summit Apt. 276</td>\n",
       "      <td>Scotts Mills</td>\n",
       "      <td>...</td>\n",
       "      <td>-122.6187</td>\n",
       "      <td>1252</td>\n",
       "      <td>Engineer, petroleum</td>\n",
       "      <td>1937-02-06</td>\n",
       "      <td>59161e0002642934974c1ae98bfa1f55</td>\n",
       "      <td>1333084893</td>\n",
       "      <td>44.561034</td>\n",
       "      <td>-123.281803</td>\n",
       "      <td>0</td>\n",
       "      <td>97331.0</td>\n",
       "    </tr>\n",
       "    <tr>\n",
       "      <th>3</th>\n",
       "      <td>2019-09-19 07:09:46</td>\n",
       "      <td>3596357274378601</td>\n",
       "      <td>fraud_Doyle Ltd</td>\n",
       "      <td>grocery_pos</td>\n",
       "      <td>71.68</td>\n",
       "      <td>David</td>\n",
       "      <td>Everett</td>\n",
       "      <td>M</td>\n",
       "      <td>4138 David Fall</td>\n",
       "      <td>Morrisdale</td>\n",
       "      <td>...</td>\n",
       "      <td>-78.2357</td>\n",
       "      <td>3688</td>\n",
       "      <td>Advice worker</td>\n",
       "      <td>1973-05-27</td>\n",
       "      <td>f487a7098c0bd4d45f710be1745c4acb</td>\n",
       "      <td>1348038586</td>\n",
       "      <td>41.612825</td>\n",
       "      <td>-78.316893</td>\n",
       "      <td>0</td>\n",
       "      <td>15834.0</td>\n",
       "    </tr>\n",
       "    <tr>\n",
       "      <th>4</th>\n",
       "      <td>2019-02-04 20:37:44</td>\n",
       "      <td>6011542681743618</td>\n",
       "      <td>fraud_Leffler-Goldner</td>\n",
       "      <td>personal_care</td>\n",
       "      <td>29.17</td>\n",
       "      <td>Emily</td>\n",
       "      <td>Hall</td>\n",
       "      <td>F</td>\n",
       "      <td>8851 Reese Neck</td>\n",
       "      <td>Basye</td>\n",
       "      <td>...</td>\n",
       "      <td>-78.7776</td>\n",
       "      <td>863</td>\n",
       "      <td>Engineer, mining</td>\n",
       "      <td>1972-08-09</td>\n",
       "      <td>c2ed76f03cce8a6b362729a5a23f01c2</td>\n",
       "      <td>1328387864</td>\n",
       "      <td>39.387521</td>\n",
       "      <td>-79.674956</td>\n",
       "      <td>0</td>\n",
       "      <td>26444.0</td>\n",
       "    </tr>\n",
       "    <tr>\n",
       "      <th>...</th>\n",
       "      <td>...</td>\n",
       "      <td>...</td>\n",
       "      <td>...</td>\n",
       "      <td>...</td>\n",
       "      <td>...</td>\n",
       "      <td>...</td>\n",
       "      <td>...</td>\n",
       "      <td>...</td>\n",
       "      <td>...</td>\n",
       "      <td>...</td>\n",
       "      <td>...</td>\n",
       "      <td>...</td>\n",
       "      <td>...</td>\n",
       "      <td>...</td>\n",
       "      <td>...</td>\n",
       "      <td>...</td>\n",
       "      <td>...</td>\n",
       "      <td>...</td>\n",
       "      <td>...</td>\n",
       "      <td>...</td>\n",
       "      <td>...</td>\n",
       "    </tr>\n",
       "    <tr>\n",
       "      <th>90762</th>\n",
       "      <td>2019-05-03 01:50:55</td>\n",
       "      <td>4861310130652566408</td>\n",
       "      <td>fraud_Thiel PLC</td>\n",
       "      <td>misc_pos</td>\n",
       "      <td>410.37</td>\n",
       "      <td>Ashley</td>\n",
       "      <td>Cruz</td>\n",
       "      <td>F</td>\n",
       "      <td>65417 Walsh Radial Suite 691</td>\n",
       "      <td>Saint Amant</td>\n",
       "      <td>...</td>\n",
       "      <td>-90.8435</td>\n",
       "      <td>10076</td>\n",
       "      <td>Surveyor, rural practice</td>\n",
       "      <td>1977-12-16</td>\n",
       "      <td>14b94dc8026970fae77db1deb747f35f</td>\n",
       "      <td>1336009855</td>\n",
       "      <td>30.152101</td>\n",
       "      <td>-90.420021</td>\n",
       "      <td>0</td>\n",
       "      <td>70068.0</td>\n",
       "    </tr>\n",
       "    <tr>\n",
       "      <th>90763</th>\n",
       "      <td>2020-03-26 22:03:48</td>\n",
       "      <td>4560004149983868183</td>\n",
       "      <td>fraud_Kihn, Brakus and Goyette</td>\n",
       "      <td>personal_care</td>\n",
       "      <td>38.94</td>\n",
       "      <td>Stacy</td>\n",
       "      <td>Villegas</td>\n",
       "      <td>F</td>\n",
       "      <td>20581 Pena Walks</td>\n",
       "      <td>Colorado Springs</td>\n",
       "      <td>...</td>\n",
       "      <td>-104.6556</td>\n",
       "      <td>525713</td>\n",
       "      <td>Museum/gallery exhibitions officer</td>\n",
       "      <td>1992-05-09</td>\n",
       "      <td>f93f924d08a19064ec37de7a69cf8e4b</td>\n",
       "      <td>1364335428</td>\n",
       "      <td>38.648246</td>\n",
       "      <td>-104.969889</td>\n",
       "      <td>0</td>\n",
       "      <td>80926.0</td>\n",
       "    </tr>\n",
       "    <tr>\n",
       "      <th>90764</th>\n",
       "      <td>2019-02-16 14:20:54</td>\n",
       "      <td>378904938837132</td>\n",
       "      <td>fraud_Gerhold LLC</td>\n",
       "      <td>home</td>\n",
       "      <td>29.43</td>\n",
       "      <td>Tina</td>\n",
       "      <td>Zimmerman</td>\n",
       "      <td>F</td>\n",
       "      <td>3595 Susan Island Suite 063</td>\n",
       "      <td>Thomas</td>\n",
       "      <td>...</td>\n",
       "      <td>-98.7388</td>\n",
       "      <td>1675</td>\n",
       "      <td>Barrister</td>\n",
       "      <td>1986-05-01</td>\n",
       "      <td>12177fa4ce00fc361366c28e0af96b81</td>\n",
       "      <td>1329402054</td>\n",
       "      <td>35.110496</td>\n",
       "      <td>-98.246154</td>\n",
       "      <td>0</td>\n",
       "      <td>73005.0</td>\n",
       "    </tr>\n",
       "    <tr>\n",
       "      <th>90765</th>\n",
       "      <td>2019-06-24 14:53:14</td>\n",
       "      <td>4155021259183870</td>\n",
       "      <td>fraud_Stark-Batz</td>\n",
       "      <td>entertainment</td>\n",
       "      <td>3.49</td>\n",
       "      <td>Renee</td>\n",
       "      <td>Parrish</td>\n",
       "      <td>F</td>\n",
       "      <td>174 Jennifer Meadow Apt. 467</td>\n",
       "      <td>Mountain Park</td>\n",
       "      <td>...</td>\n",
       "      <td>-98.9591</td>\n",
       "      <td>540</td>\n",
       "      <td>Research scientist (life sciences)</td>\n",
       "      <td>1983-10-12</td>\n",
       "      <td>4a248f9b8268ba53241625b4af2a271c</td>\n",
       "      <td>1340549594</td>\n",
       "      <td>35.135938</td>\n",
       "      <td>-98.112255</td>\n",
       "      <td>0</td>\n",
       "      <td>73092.0</td>\n",
       "    </tr>\n",
       "    <tr>\n",
       "      <th>90766</th>\n",
       "      <td>2019-06-22 17:21:39</td>\n",
       "      <td>4155021259183870</td>\n",
       "      <td>fraud_Streich, Rolfson and Wilderman</td>\n",
       "      <td>kids_pets</td>\n",
       "      <td>104.23</td>\n",
       "      <td>Renee</td>\n",
       "      <td>Parrish</td>\n",
       "      <td>F</td>\n",
       "      <td>174 Jennifer Meadow Apt. 467</td>\n",
       "      <td>Mountain Park</td>\n",
       "      <td>...</td>\n",
       "      <td>-98.9591</td>\n",
       "      <td>540</td>\n",
       "      <td>Research scientist (life sciences)</td>\n",
       "      <td>1983-10-12</td>\n",
       "      <td>9e73bbda29bc0568cbcf48975a2e1372</td>\n",
       "      <td>1340385699</td>\n",
       "      <td>34.624869</td>\n",
       "      <td>-99.008428</td>\n",
       "      <td>0</td>\n",
       "      <td>73566.0</td>\n",
       "    </tr>\n",
       "  </tbody>\n",
       "</table>\n",
       "<p>90767 rows × 23 columns</p>\n",
       "</div>"
      ],
      "text/plain": [
       "      trans_date_trans_time               cc_num  \\\n",
       "0       2019-05-04 11:57:04        4586260469584   \n",
       "1       2019-12-14 08:55:21        4900628639996   \n",
       "2       2019-03-30 05:21:33         676118385837   \n",
       "3       2019-09-19 07:09:46     3596357274378601   \n",
       "4       2019-02-04 20:37:44     6011542681743618   \n",
       "...                     ...                  ...   \n",
       "90762   2019-05-03 01:50:55  4861310130652566408   \n",
       "90763   2020-03-26 22:03:48  4560004149983868183   \n",
       "90764   2019-02-16 14:20:54      378904938837132   \n",
       "90765   2019-06-24 14:53:14     4155021259183870   \n",
       "90766   2019-06-22 17:21:39     4155021259183870   \n",
       "\n",
       "                                   merchant       category     amt    first  \\\n",
       "0                         fraud_Kerluke Inc       misc_net    5.96   Melody   \n",
       "1                          fraud_Rempel PLC    grocery_net   70.66  Michael   \n",
       "2                     fraud_Rodriguez Group  gas_transport   50.92  Katelyn   \n",
       "3                           fraud_Doyle Ltd    grocery_pos   71.68    David   \n",
       "4                     fraud_Leffler-Goldner  personal_care   29.17    Emily   \n",
       "...                                     ...            ...     ...      ...   \n",
       "90762                       fraud_Thiel PLC       misc_pos  410.37   Ashley   \n",
       "90763        fraud_Kihn, Brakus and Goyette  personal_care   38.94    Stacy   \n",
       "90764                     fraud_Gerhold LLC           home   29.43     Tina   \n",
       "90765                      fraud_Stark-Batz  entertainment    3.49    Renee   \n",
       "90766  fraud_Streich, Rolfson and Wilderman      kids_pets  104.23    Renee   \n",
       "\n",
       "            last gender                        street              city  ...  \\\n",
       "0       Thompson      F            0362 Anderson Wall        Mound City  ...   \n",
       "1        Johnson      M           094 Owens Underpass           Norwalk  ...   \n",
       "2           Wise      F   674 Maureen Summit Apt. 276      Scotts Mills  ...   \n",
       "3        Everett      M               4138 David Fall        Morrisdale  ...   \n",
       "4           Hall      F               8851 Reese Neck             Basye  ...   \n",
       "...          ...    ...                           ...               ...  ...   \n",
       "90762       Cruz      F  65417 Walsh Radial Suite 691       Saint Amant  ...   \n",
       "90763   Villegas      F              20581 Pena Walks  Colorado Springs  ...   \n",
       "90764  Zimmerman      F   3595 Susan Island Suite 063            Thomas  ...   \n",
       "90765    Parrish      F  174 Jennifer Meadow Apt. 467     Mountain Park  ...   \n",
       "90766    Parrish      F  174 Jennifer Meadow Apt. 467     Mountain Park  ...   \n",
       "\n",
       "           long  city_pop                                 job         dob  \\\n",
       "0      -95.2138      1631                           Architect  1953-01-20   \n",
       "1     -118.0818    105549                         Firefighter  1973-09-22   \n",
       "2     -122.6187      1252                 Engineer, petroleum  1937-02-06   \n",
       "3      -78.2357      3688                       Advice worker  1973-05-27   \n",
       "4      -78.7776       863                    Engineer, mining  1972-08-09   \n",
       "...         ...       ...                                 ...         ...   \n",
       "90762  -90.8435     10076            Surveyor, rural practice  1977-12-16   \n",
       "90763 -104.6556    525713  Museum/gallery exhibitions officer  1992-05-09   \n",
       "90764  -98.7388      1675                           Barrister  1986-05-01   \n",
       "90765  -98.9591       540  Research scientist (life sciences)  1983-10-12   \n",
       "90766  -98.9591       540  Research scientist (life sciences)  1983-10-12   \n",
       "\n",
       "                              trans_num   unix_time  merch_lat  merch_long  \\\n",
       "0      3d21bce7967838c3988cfe0f7fca878a  1336132624  41.024651  -94.428240   \n",
       "1      fda7712b4bbcaab36afded37ab55047f  1355475321  33.808771 -118.031888   \n",
       "2      59161e0002642934974c1ae98bfa1f55  1333084893  44.561034 -123.281803   \n",
       "3      f487a7098c0bd4d45f710be1745c4acb  1348038586  41.612825  -78.316893   \n",
       "4      c2ed76f03cce8a6b362729a5a23f01c2  1328387864  39.387521  -79.674956   \n",
       "...                                 ...         ...        ...         ...   \n",
       "90762  14b94dc8026970fae77db1deb747f35f  1336009855  30.152101  -90.420021   \n",
       "90763  f93f924d08a19064ec37de7a69cf8e4b  1364335428  38.648246 -104.969889   \n",
       "90764  12177fa4ce00fc361366c28e0af96b81  1329402054  35.110496  -98.246154   \n",
       "90765  4a248f9b8268ba53241625b4af2a271c  1340549594  35.135938  -98.112255   \n",
       "90766  9e73bbda29bc0568cbcf48975a2e1372  1340385699  34.624869  -99.008428   \n",
       "\n",
       "       is_fraud  merch_zipcode  \n",
       "0             0        50842.0  \n",
       "1             0        90630.0  \n",
       "2             0        97331.0  \n",
       "3             0        15834.0  \n",
       "4             0        26444.0  \n",
       "...         ...            ...  \n",
       "90762         0        70068.0  \n",
       "90763         0        80926.0  \n",
       "90764         0        73005.0  \n",
       "90765         0        73092.0  \n",
       "90766         0        73566.0  \n",
       "\n",
       "[90767 rows x 23 columns]"
      ]
     },
     "execution_count": 12,
     "metadata": {},
     "output_type": "execute_result"
    }
   ],
   "source": [
    "# Load dataset\n",
    "data = pd.read_csv('../data/01_raw/data_v1.csv')\n",
    "data"
   ]
  },
  {
   "cell_type": "markdown",
   "id": "05613c56",
   "metadata": {},
   "source": [
    "## 2.1. Data Description"
   ]
  },
  {
   "cell_type": "markdown",
   "id": "f188787c",
   "metadata": {},
   "source": [
    "The dataset contains obversations regarding the occurence of fraud in a certain transaction and contains the following features:\n",
    "\n",
    "- `trans_date_trans_time`: Timestamp of the transaction.\n",
    "- `cc_num`: Credit card number (hashed or anonymized).\n",
    "- `merchant`: Merchant or store where the transaction occurred.\n",
    "- `category`: Merchant or store where the transaction occurred.\n",
    "- `amt`: Amount of the transaction.\n",
    "- `first`: First name of the cardholder.\n",
    "- `last`: Last name of the cardholder.\n",
    "- `gender`: Gender of the cardholder.\n",
    "- `street`: Name of the street where the cardholder resids.\n",
    "- `city`: Name of the city where the cardholder resids.\n",
    "- `state`: Name of the state where the cardholder resids.\n",
    "- `zip`: Zip code of the residence of the cardholder.\n",
    "- `lat`: Latitude coordinate of the transaction.\n",
    "- `long`: Longitude coordinate of the transaction.\n",
    "- `city_pop`: Population of the city where the transaction occurred.\n",
    "- `job`: Occupation of the cardholder.\n",
    "- `dob`: Date of birth of the cardholder.\n",
    "- `trans_num`: Unique transaction number.\n",
    "- `unix_time`: Unix timestamp of the transaction.\n",
    "- `merch_lat`: Latitude coordinate of the merchant.\n",
    "- `merch_long`: Longitude coordinate of the merchant.\n",
    "- `is_fraud`: Indicator of whether the transaction is fraudulent (target feature).\n",
    "- `merch_zipcode`: Zip code of the merchant.\n"
   ]
  },
  {
   "cell_type": "code",
   "execution_count": 13,
   "id": "6a8cb26d",
   "metadata": {},
   "outputs": [],
   "source": [
    "numerical_features = ['trans_date_trans_time', 'amt', 'lat', 'long', 'city_pop', 'dob', 'merch_lat', 'merch_long']\n",
    "\n",
    "categorical_features = ['merchant', 'category', 'first', 'last', 'gender', 'street', 'city', 'state', 'zip', 'job', 'unix_time', \n",
    "                        'merch_zipcode']\n",
    "\n",
    "id_features = ['cc_num', 'trans_num']\n",
    "\n",
    "target_feature = 'is_fraud'\n",
    "\n",
    "categorical_features_high_cardinality = ['merchant', 'first', 'last', 'street', 'city', 'state', 'zip', 'job', 'unix_time', 'merch_zipcode']\n",
    "\n",
    "categorical_features_low_cardinality = ['category', 'gender']"
   ]
  },
  {
   "cell_type": "code",
   "execution_count": 14,
   "id": "766f7395",
   "metadata": {},
   "outputs": [
    {
     "name": "stdout",
     "output_type": "stream",
     "text": [
      "Missing in your list: set()\n",
      "Extra in your list: set()\n"
     ]
    }
   ],
   "source": [
    "listed_columns = (\n",
    "    numerical_features\n",
    "    + categorical_features\n",
    "    + id_features\n",
    "    + [target_feature])\n",
    "\n",
    "all_dataset_columns = data.columns.tolist()\n",
    "\n",
    "missing_in_list = set(all_dataset_columns) - set(listed_columns)\n",
    "extra_in_list = set(listed_columns) - set(all_dataset_columns)\n",
    "\n",
    "print(\"Missing in your list:\", missing_in_list)\n",
    "print(\"Extra in your list:\", extra_in_list)"
   ]
  },
  {
   "cell_type": "code",
   "execution_count": 15,
   "id": "3938d5be",
   "metadata": {},
   "outputs": [
    {
     "data": {
      "text/plain": [
       "(90767, 23)"
      ]
     },
     "execution_count": 15,
     "metadata": {},
     "output_type": "execute_result"
    }
   ],
   "source": [
    "data.shape"
   ]
  },
  {
   "cell_type": "code",
   "execution_count": 16,
   "id": "3db0ef01",
   "metadata": {},
   "outputs": [
    {
     "name": "stdout",
     "output_type": "stream",
     "text": [
      "<class 'pandas.core.frame.DataFrame'>\n",
      "RangeIndex: 90767 entries, 0 to 90766\n",
      "Data columns (total 23 columns):\n",
      " #   Column                 Non-Null Count  Dtype  \n",
      "---  ------                 --------------  -----  \n",
      " 0   trans_date_trans_time  90767 non-null  object \n",
      " 1   cc_num                 90767 non-null  int64  \n",
      " 2   merchant               90767 non-null  object \n",
      " 3   category               90767 non-null  object \n",
      " 4   amt                    90767 non-null  float64\n",
      " 5   first                  90767 non-null  object \n",
      " 6   last                   90767 non-null  object \n",
      " 7   gender                 90767 non-null  object \n",
      " 8   street                 90767 non-null  object \n",
      " 9   city                   90767 non-null  object \n",
      " 10  state                  90767 non-null  object \n",
      " 11  zip                    90767 non-null  int64  \n",
      " 12  lat                    90767 non-null  float64\n",
      " 13  long                   90767 non-null  float64\n",
      " 14  city_pop               90767 non-null  int64  \n",
      " 15  job                    90767 non-null  object \n",
      " 16  dob                    90767 non-null  object \n",
      " 17  trans_num              90767 non-null  object \n",
      " 18  unix_time              90767 non-null  int64  \n",
      " 19  merch_lat              90767 non-null  float64\n",
      " 20  merch_long             90767 non-null  float64\n",
      " 21  is_fraud               90767 non-null  int64  \n",
      " 22  merch_zipcode          77053 non-null  float64\n",
      "dtypes: float64(6), int64(5), object(12)\n",
      "memory usage: 15.9+ MB\n"
     ]
    }
   ],
   "source": [
    "data.info()"
   ]
  },
  {
   "cell_type": "markdown",
   "id": "f922171d",
   "metadata": {},
   "source": [
    "# 3. Data split"
   ]
  },
  {
   "cell_type": "code",
   "execution_count": 17,
   "id": "580d1048",
   "metadata": {},
   "outputs": [
    {
     "name": "stdout",
     "output_type": "stream",
     "text": [
      "Train set size: (54459, 22)\n",
      "Validation set size: (18154, 22)\n",
      "Test set size: (18154, 22)\n"
     ]
    }
   ],
   "source": [
    "X = data.drop(columns=[target_feature])\n",
    "y = data[target_feature]\n",
    "\n",
    "# test (20%)\n",
    "X_train_val, X_test, y_train_val, y_test = train_test_split(X, y, test_size=0.2, stratify=y, random_state=42)\n",
    "\n",
    "# train (60%) and val (20%)\n",
    "X_train, X_val, y_train, y_val = train_test_split(X_train_val, y_train_val, test_size=0.25, stratify=y_train_val, random_state=42)\n",
    "\n",
    "print(\"Train set size:\", X_train.shape)\n",
    "print(\"Validation set size:\", X_val.shape)\n",
    "print(\"Test set size:\", X_test.shape)"
   ]
  },
  {
   "cell_type": "markdown",
   "id": "723d85d6",
   "metadata": {},
   "source": [
    "# 4. Preprocessing"
   ]
  },
  {
   "cell_type": "markdown",
   "id": "508b37e9",
   "metadata": {},
   "source": [
    "## 3.1 Data Types Treatment"
   ]
  },
  {
   "cell_type": "markdown",
   "id": "5cfa943f",
   "metadata": {},
   "source": [
    "__`Step 1`__ Convert trans_date_trans_time and dob to date_time"
   ]
  },
  {
   "cell_type": "code",
   "execution_count": null,
   "id": "d99809ec",
   "metadata": {},
   "outputs": [],
   "source": [
    "def convert_datetime(dataset, col):\n",
    "    print(f\"Before conversion {col}:\")\n",
    "    print(dataset[col].dtypes)\n",
    "\n",
    "    for col in col:\n",
    "        dataset[col] = pd.to_datetime(dataset[col], errors='coerce')\n",
    "\n",
    "    print(\"\\nAfter conversion:\")\n",
    "    print(dataset[col].dtypes)\n",
    "\n",
    "    return dataset"
   ]
  },
  {
   "cell_type": "code",
   "execution_count": 84,
   "id": "d719c762",
   "metadata": {},
   "outputs": [
    {
     "name": "stdout",
     "output_type": "stream",
     "text": [
      "Before conversion:\n",
      "trans_date_trans_time    object\n",
      "dob                      object\n",
      "dtype: object\n",
      "After conversion:\n",
      "trans_date_trans_time    datetime64[ns]\n",
      "dob                      datetime64[ns]\n",
      "dtype: object\n"
     ]
    }
   ],
   "source": [
    "print(\"Before conversion:\")\n",
    "print(data[['trans_date_trans_time', 'dob']].dtypes)\n",
    "\n",
    "data['trans_date_trans_time'] = pd.to_datetime(data['trans_date_trans_time'], errors='coerce')\n",
    "data['dob'] = pd.to_datetime(data['dob'], errors='coerce')\n",
    "\n",
    "print(\"After conversion:\")\n",
    "print(data[['trans_date_trans_time', 'dob']].dtypes)"
   ]
  },
  {
   "cell_type": "code",
   "execution_count": null,
   "id": "7e4ba8e7",
   "metadata": {},
   "outputs": [],
   "source": [
    "convert_datetime(X_train, 'trans_date_trans_time')\n",
    "convert_datetime(X_val, 'trans_date_trans_time')"
   ]
  },
  {
   "cell_type": "markdown",
   "id": "5c25976f",
   "metadata": {},
   "source": [
    "__`Step 2`__ Convert ZIPs to categorical strings"
   ]
  },
  {
   "cell_type": "code",
   "execution_count": 85,
   "id": "66e617ec",
   "metadata": {},
   "outputs": [],
   "source": [
    "data['zip'] = data['zip'].astype(str)"
   ]
  },
  {
   "cell_type": "markdown",
   "id": "68110c7c",
   "metadata": {},
   "source": [
    "## 3.2 Incoherence treatment"
   ]
  },
  {
   "cell_type": "markdown",
   "id": "06153515",
   "metadata": {},
   "source": [
    "__`Step 1`__ Dropping columns"
   ]
  },
  {
   "cell_type": "code",
   "execution_count": 86,
   "id": "71b2a59a",
   "metadata": {},
   "outputs": [
    {
     "name": "stdout",
     "output_type": "stream",
     "text": [
      "Dropping columns due to perfect association: ['first', 'merchant']\n"
     ]
    }
   ],
   "source": [
    "cols_to_drop = ['first', 'merchant']\n",
    "\n",
    "print(\"Dropping columns due to perfect association:\", cols_to_drop)\n",
    "data.drop(columns=cols_to_drop, inplace=True)\n",
    "\n",
    "categorical_features = [col for col in categorical_features if col not in cols_to_drop]\n",
    "categorical_features_high_cardinality = [col for col in categorical_features_high_cardinality if col not in cols_to_drop]"
   ]
  },
  {
   "cell_type": "markdown",
   "id": "017783b1",
   "metadata": {},
   "source": [
    "We drop `first` because it is perfectly associated with `gender`, so it adds no new information and increases complexity.  \n",
    "We drop `merchant` because it is almost identical to `category`, which is simpler and easier to encode."
   ]
  },
  {
   "cell_type": "markdown",
   "id": "29182db7",
   "metadata": {},
   "source": [
    "## 3.3 Missing Values Treatment"
   ]
  },
  {
   "cell_type": "code",
   "execution_count": 87,
   "id": "22b8b84e",
   "metadata": {},
   "outputs": [
    {
     "name": "stdout",
     "output_type": "stream",
     "text": [
      "Missing values before treatment:\n",
      "merch_zipcode    13714\n",
      "dtype: int64\n"
     ]
    }
   ],
   "source": [
    "print(\"Missing values before treatment:\")\n",
    "print(data.isna().sum()[data.isna().sum() > 0])"
   ]
  },
  {
   "cell_type": "markdown",
   "id": "903c804c",
   "metadata": {},
   "source": [
    "__`Step 1`__ Fill missing merchant ZIPs using most common ZIP per merchant coordinates"
   ]
  },
  {
   "cell_type": "code",
   "execution_count": 88,
   "id": "c149b4c2",
   "metadata": {},
   "outputs": [
    {
     "name": "stdout",
     "output_type": "stream",
     "text": [
      "Missing merchant zips after imputation: 153\n"
     ]
    }
   ],
   "source": [
    "# Fill with most frequent zip in the same city\n",
    "city_zip_lookup = (\n",
    "    data[~data['merch_zipcode'].isna()]\n",
    "    .groupby('city')['merch_zipcode']\n",
    "    .agg(lambda x: x.mode().iloc[0])\n",
    "    .to_dict())\n",
    "\n",
    "mask = data['merch_zipcode'].isna() & data['city'].notna()\n",
    "data.loc[mask, 'merch_zipcode'] = data.loc[mask, 'city'].map(city_zip_lookup)\n",
    "\n",
    "print(\"Missing merchant zips after imputation:\", data['merch_zipcode'].isna().sum())"
   ]
  },
  {
   "cell_type": "code",
   "execution_count": 89,
   "id": "95bbe0d3",
   "metadata": {},
   "outputs": [
    {
     "name": "stdout",
     "output_type": "stream",
     "text": [
      "Missing merchant zips after imputation: 150\n"
     ]
    }
   ],
   "source": [
    "# Fill remaining zips using the most common zip in the same state\n",
    "state_zip_map = (\n",
    "    data[~data['merch_zipcode'].isna()]\n",
    "    .groupby('state')['merch_zipcode']\n",
    "    .agg(lambda x: x.mode().iloc[0])\n",
    "    .to_dict()\n",
    ")\n",
    "\n",
    "mask = data['merch_zipcode'].isna() & data['state'].notna()\n",
    "data.loc[mask, 'merch_zipcode'] = data.loc[mask, 'state'].map(state_zip_map)\n",
    "\n",
    "print(\"Missing merchant zips after imputation:\", data['merch_zipcode'].isna().sum())"
   ]
  },
  {
   "cell_type": "markdown",
   "id": "d9f18e2a",
   "metadata": {},
   "source": [
    "To handle missing values in the `merch_zipcode` feature, we applied a two-stage imputation strategy using geographic hierarchy:\n",
    "\n",
    "1. **Using city**  \n",
    "   We first filled missing zip codes by assigning the most frequent zip within the same `city`, reducing the number of missing ZIPs to **153**.\n",
    "\n",
    "2. **Using state**  \n",
    "   For the remaining missing values, we used the most common zip within the same `state`, further reducing the number of missing zips to **150**.\n",
    "\n",
    "We chose not to impute the remaining 150 values to avoid introducing noise or artificial bias. Instead, we retain a binary flag (`zip_missing`) to indicate which rows still have missing zip codes.\n"
   ]
  },
  {
   "cell_type": "markdown",
   "id": "71955343",
   "metadata": {},
   "source": [
    "__`Step 2`__ Flag missing merchant ZIPs"
   ]
  },
  {
   "cell_type": "code",
   "execution_count": 90,
   "id": "3b4bd64f",
   "metadata": {},
   "outputs": [
    {
     "name": "stdout",
     "output_type": "stream",
     "text": [
      "Missing merchant ZIPs flagged: 150 rows\n"
     ]
    }
   ],
   "source": [
    "data['zip_missing'] = data['merch_zipcode'].isna().astype(int)\n",
    "\n",
    "print(f\"Missing merchant ZIPs flagged: {data['zip_missing'].sum()} rows\")"
   ]
  },
  {
   "cell_type": "markdown",
   "id": "0e6fe348",
   "metadata": {},
   "source": [
    "## 3.4 Feature Engineering"
   ]
  },
  {
   "cell_type": "markdown",
   "id": "151731a5",
   "metadata": {},
   "source": [
    "__`Step 1`__ Create distance between user and merchant"
   ]
  },
  {
   "cell_type": "code",
   "execution_count": 91,
   "id": "1c853934",
   "metadata": {},
   "outputs": [
    {
     "data": {
      "image/png": "[encoded data removed]",
      "text/plain": [
       "<Figure size 640x480 with 1 Axes>"
      ]
     },
     "metadata": {},
     "output_type": "display_data"
    }
   ],
   "source": [
    "def haversine_vectorized(lat1, lon1, lat2, lon2):\n",
    "    R = 6371  # Earth radius in km\n",
    "    lat1_rad, lon1_rad = np.radians(lat1), np.radians(lon1)\n",
    "    lat2_rad, lon2_rad = np.radians(lat2), np.radians(lon2)\n",
    "    \n",
    "    dlat, dlon = lat2_rad - lat1_rad, lon2_rad - lon1_rad\n",
    "    \n",
    "    a = np.sin(dlat/2)**2 + np.cos(lat1_rad) * np.cos(lat2_rad) * np.sin(dlon/2)**2\n",
    "    c = 2 * np.arcsin(np.sqrt(a))\n",
    "    \n",
    "    return R * c\n",
    "\n",
    "# Create the distance feature\n",
    "data['distance'] = haversine_vectorized(data['lat'], data['long'], data['merch_lat'], data['merch_long'])\n",
    "numerical_features += ['distance']\n",
    "\n",
    "# Visualize\n",
    "data['distance'].hist(bins=100, color='#C1D82F')\n",
    "plt.title(\"Distance distribution\")\n",
    "plt.xlabel(\"Distance (km)\")\n",
    "plt.ylabel(\"Frequency\")\n",
    "plt.show()"
   ]
  },
  {
   "cell_type": "markdown",
   "id": "6ec293ea",
   "metadata": {},
   "source": [
    "__`Step 2`__ Extract date and time features from trans_date_trans_time"
   ]
  },
  {
   "cell_type": "code",
   "execution_count": 92,
   "id": "dd849fc8",
   "metadata": {},
   "outputs": [
    {
     "data": {
      "image/png": "[encoded data removed]",
      "text/plain": [
       "<Figure size 1400x1000 with 4 Axes>"
      ]
     },
     "metadata": {},
     "output_type": "display_data"
    }
   ],
   "source": [
    "data['hour'] = data['trans_date_trans_time'].dt.hour\n",
    "data['day'] = data['trans_date_trans_time'].dt.day\n",
    "data['weekday'] = data['trans_date_trans_time'].dt.weekday  # Monday = 0\n",
    "data['month'] = data['trans_date_trans_time'].dt.month\n",
    "\n",
    "categorical_features += ['hour', 'day', 'weekday', 'month']\n",
    "categorical_features_temporal = ['hour', 'day', 'weekday', 'month']\n",
    "numerical_features = [col for col in numerical_features if col not in ['trans_date_trans_time']]\n",
    "\n",
    "fig, axs = plt.subplots(2, 2, figsize=(14, 10))\n",
    "\n",
    "sns.histplot(data['hour'], bins=24, ax=axs[0, 0], color='#C1D82F', discrete=True)\n",
    "axs[0, 0].set_title('Transactions by Hour of Day')\n",
    "axs[0, 0].set_xlabel('Hour (0–23)')\n",
    "axs[0, 0].set_ylabel('Count')\n",
    "\n",
    "sns.histplot(data['day'], bins=31, ax=axs[0, 1], color='#C1D82F', discrete=True)\n",
    "axs[0, 1].set_title('Transactions by Day of Month')\n",
    "axs[0, 1].set_xlabel('Day (1–31)')\n",
    "axs[0, 1].set_ylabel('Count')\n",
    "\n",
    "sns.histplot(data['weekday'], bins=7, ax=axs[1, 0], color='#C1D82F', discrete=True)\n",
    "axs[1, 0].set_title('Transactions by Weekday')\n",
    "axs[1, 0].set_xlabel('Weekday (0=Mon, 6=Sun)')\n",
    "axs[1, 0].set_ylabel('Count')\n",
    "\n",
    "sns.histplot(data['month'], bins=12, ax=axs[1, 1], color='#C1D82F', discrete=True)\n",
    "axs[1, 1].set_title('Transactions by Month')\n",
    "axs[1, 1].set_xlabel('Month (1–12)')\n",
    "axs[1, 1].set_ylabel('Count')\n",
    "\n",
    "plt.tight_layout()\n",
    "plt.show()"
   ]
  },
  {
   "cell_type": "code",
   "execution_count": 93,
   "id": "0ce0f0f3",
   "metadata": {},
   "outputs": [
    {
     "data": {
      "image/png": "[encoded data removed]",
      "text/plain": [
       "<Figure size 600x600 with 1 Axes>"
      ]
     },
     "metadata": {},
     "output_type": "display_data"
    }
   ],
   "source": [
    "# Transaction made on weekend\n",
    "data['is_weekend'] = data['weekday'].isin([5, 6]).astype(int)\n",
    "\n",
    "categorical_features += ['is_weekend']\n",
    "\n",
    "weekend_counts = data['is_weekend'].value_counts().sort_index()\n",
    "labels = ['Weekday', 'Weekend']\n",
    "colors = ['#00ADEF', '#C1D82F'] \n",
    "\n",
    "plt.figure(figsize=(6, 6))\n",
    "plt.pie(weekend_counts, labels=labels, autopct='%1.1f%%', startangle=90, colors=colors)\n",
    "plt.title('Transaction Distribution: Weekday vs. Weekend')\n",
    "plt.axis('equal') \n",
    "plt.show()\n"
   ]
  },
  {
   "cell_type": "markdown",
   "id": "bcce3f57",
   "metadata": {},
   "source": [
    "__`Step 3`__ Create customer's age"
   ]
  },
  {
   "cell_type": "code",
   "execution_count": null,
   "id": "3e75b9cb",
   "metadata": {},
   "outputs": [],
   "source": [
    "data['age'] = data['trans_date_trans_time'].dt.year - data['dob'].dt.year\n",
    "\n",
    "numerical_features += ['age']\n",
    "numerical_features = [col for col in numerical_features if col not in ['dob']]"
   ]
  },
  {
   "cell_type": "code",
   "execution_count": 95,
   "id": "fb726856",
   "metadata": {},
   "outputs": [
    {
     "data": {
      "image/png": "[encoded data removed]",
      "text/plain": [
       "<Figure size 1400x1000 with 1 Axes>"
      ]
     },
     "metadata": {},
     "output_type": "display_data"
    }
   ],
   "source": [
    "fig, ax = plt.subplots(1, 1, figsize=(14, 10))\n",
    "\n",
    "sns.histplot(data['age'], bins=24, ax=ax, color='#C1D82F', discrete=True)\n",
    "ax.set_title('Customers age')\n",
    "ax.set_xlabel('Age')\n",
    "ax.set_ylabel('Count')\n",
    "\n",
    "plt.tight_layout()\n",
    "plt.show()"
   ]
  },
  {
   "cell_type": "markdown",
   "id": "7ba8a7a0",
   "metadata": {},
   "source": [
    "__`Step 4`__ Log-transform skewed features"
   ]
  },
  {
   "cell_type": "code",
   "execution_count": 96,
   "id": "0931f74b",
   "metadata": {},
   "outputs": [],
   "source": [
    "# Features to log-transform\n",
    "log_transform_features = ['amt', 'city_pop'] \n",
    "\n",
    "# log(1 + x) transform to avoid log(0)\n",
    "for col in log_transform_features:\n",
    "    data[f'log_{col}'] = np.log1p(data[col])\n",
    "    numerical_features += [f'log_{col}']"
   ]
  },
  {
   "cell_type": "code",
   "execution_count": 97,
   "id": "f82f5590",
   "metadata": {},
   "outputs": [
    {
     "data": {
      "image/png": "[encoded data removed]",
      "text/plain": [
       "<Figure size 1200x1000 with 2 Axes>"
      ]
     },
     "metadata": {},
     "output_type": "display_data"
    },
    {
     "data": {
      "image/png": "[encoded data removed]",
      "text/plain": [
       "<Figure size 1200x1000 with 2 Axes>"
      ]
     },
     "metadata": {},
     "output_type": "display_data"
    }
   ],
   "source": [
    "plot_log_features = [f'log_{col}' for col in log_transform_features]\n",
    "\n",
    "n_rows, n_cols = 3, 2\n",
    "fig, axes = plt.subplots(n_rows, n_cols, figsize=(12, 10))\n",
    "axes = axes.flatten()\n",
    "\n",
    "for i, col in enumerate(plot_log_features):\n",
    "    sns.histplot(data[col], kde=True, bins=50, ax=axes[i])\n",
    "    axes[i].set_title(f'Histogram of {col}')\n",
    "    axes[i].set_xlabel(col)\n",
    "    axes[i].set_ylabel('Frequency')\n",
    "\n",
    "for j in range(len(plot_log_features), n_rows * n_cols):\n",
    "    fig.delaxes(axes[j])\n",
    "\n",
    "plt.tight_layout()\n",
    "plt.show()\n",
    "\n",
    "fig, axes = plt.subplots(n_rows, n_cols, figsize=(12, 10))\n",
    "axes = axes.flatten()\n",
    "\n",
    "for i, col in enumerate(plot_log_features):\n",
    "    sns.boxplot(x=data[col], ax=axes[i])\n",
    "    axes[i].set_title(f'Boxplot of {col}')\n",
    "    axes[i].set_xlabel(col)\n",
    "\n",
    "for j in range(len(plot_log_features), n_rows * n_cols):\n",
    "    fig.delaxes(axes[j])\n",
    "\n",
    "plt.tight_layout()\n",
    "plt.show()\n"
   ]
  },
  {
   "cell_type": "markdown",
   "id": "abecb79d",
   "metadata": {},
   "source": [
    "__`Step 5`__ Create amount per km"
   ]
  },
  {
   "cell_type": "code",
   "execution_count": 98,
   "id": "246f967a",
   "metadata": {},
   "outputs": [],
   "source": [
    "data['amt_per_km'] = data['amt'] / (data['distance'] + 0.01)  # to avoid division by zero\n",
    "numerical_features += ['amt_per_km']"
   ]
  },
  {
   "cell_type": "markdown",
   "id": "6feddc7f",
   "metadata": {},
   "source": [
    "__`Step 6`__ Sparse category handling"
   ]
  },
  {
   "cell_type": "code",
   "execution_count": 99,
   "id": "f7f47c28",
   "metadata": {},
   "outputs": [],
   "source": [
    "threshold = 0.01 # threshold for rare categories"
   ]
  },
  {
   "cell_type": "code",
   "execution_count": 100,
   "id": "384adbf7",
   "metadata": {},
   "outputs": [
    {
     "name": "stdout",
     "output_type": "stream",
     "text": [
      "Feature: category\n",
      "  Number of unique categories: 14\n",
      "  Number of rare categories (less than 1%): 0\n",
      "--------------------------------------------------\n",
      "Feature: last\n",
      "  Number of unique categories: 474\n",
      "  Number of rare categories (less than 1%): 467\n",
      "--------------------------------------------------\n",
      "Feature: gender\n",
      "  Number of unique categories: 2\n",
      "  Number of rare categories (less than 1%): 0\n",
      "--------------------------------------------------\n",
      "Feature: street\n",
      "  Number of unique categories: 949\n",
      "  Number of rare categories (less than 1%): 949\n",
      "--------------------------------------------------\n",
      "Feature: city\n",
      "  Number of unique categories: 870\n",
      "  Number of rare categories (less than 1%): 870\n",
      "--------------------------------------------------\n",
      "Feature: state\n",
      "  Number of unique categories: 51\n",
      "  Number of rare categories (less than 1%): 15\n",
      "--------------------------------------------------\n",
      "Feature: zip\n",
      "  Number of unique categories: 938\n",
      "  Number of rare categories (less than 1%): 938\n",
      "--------------------------------------------------\n",
      "Feature: job\n",
      "  Number of unique categories: 486\n",
      "  Number of rare categories (less than 1%): 486\n",
      "--------------------------------------------------\n",
      "Feature: unix_time\n",
      "  Number of unique categories: 90667\n",
      "  Number of rare categories (less than 1%): 90667\n",
      "--------------------------------------------------\n",
      "Feature: merch_zipcode\n",
      "  Number of unique categories: 22188\n",
      "  Number of rare categories (less than 1%): 22188\n",
      "--------------------------------------------------\n",
      "Feature: hour\n",
      "  Number of unique categories: 24\n",
      "  Number of rare categories (less than 1%): 0\n",
      "--------------------------------------------------\n",
      "Feature: day\n",
      "  Number of unique categories: 31\n",
      "  Number of rare categories (less than 1%): 0\n",
      "--------------------------------------------------\n",
      "Feature: weekday\n",
      "  Number of unique categories: 7\n",
      "  Number of rare categories (less than 1%): 0\n",
      "--------------------------------------------------\n",
      "Feature: month\n",
      "  Number of unique categories: 12\n",
      "  Number of rare categories (less than 1%): 0\n",
      "--------------------------------------------------\n",
      "Feature: is_weekend\n",
      "  Number of unique categories: 2\n",
      "  Number of rare categories (less than 1%): 0\n",
      "--------------------------------------------------\n"
     ]
    }
   ],
   "source": [
    "total_rows = len(data)\n",
    "\n",
    "for col in categorical_features:\n",
    "    value_counts = data[col].value_counts(normalize=True)\n",
    "    \n",
    "    num_unique = value_counts.shape[0]\n",
    "    num_rare = (value_counts < threshold).sum()\n",
    "    \n",
    "    print(f\"Feature: {col}\")\n",
    "    print(f\"  Number of unique categories: {num_unique}\")\n",
    "    print(f\"  Number of rare categories (less than 1%): {num_rare}\")\n",
    "    print(\"-\" * 50)\n"
   ]
  },
  {
   "cell_type": "code",
   "execution_count": 101,
   "id": "69e4f639",
   "metadata": {},
   "outputs": [],
   "source": [
    "def rare_label_encoder(col, threshold=0.01):\n",
    "    freq = data[col].value_counts(normalize=True)\n",
    "    rare = freq[freq < threshold].index\n",
    "    data[col + '_grouped'] = data[col].apply(lambda x: 'Other' if x in rare else x)\n",
    "\n",
    "rare_label_encoder('state')\n",
    "\n",
    "categorical_features += ['state_grouped']\n",
    "categorical_features_high_cardinality += ['state_grouped']"
   ]
  },
  {
   "cell_type": "markdown",
   "id": "a56372ee",
   "metadata": {},
   "source": [
    "## 3.5 Outlier Treatment"
   ]
  },
  {
   "cell_type": "code",
   "execution_count": 102,
   "id": "7a42c206",
   "metadata": {},
   "outputs": [
    {
     "name": "stdout",
     "output_type": "stream",
     "text": [
      "  Q1 (25th percentile): 9.63\n",
      "  Q3 (75th percentile): 82.59\n",
      "  IQR (Q3 - Q1): 72.96\n",
      "  Upper limit using IQR (Q3 + 1.5*IQR): 192.03\n",
      "  99th percentile: 547.83\n",
      "  Max value: 13536.84\n"
     ]
    }
   ],
   "source": [
    "# Calculate Q1, Q3, and IQR\n",
    "q1 = data[\"amt\"].quantile(0.25)\n",
    "q3 = data[\"amt\"].quantile(0.75)\n",
    "iqr = q3 - q1\n",
    "upper_iqr_limit = q3 + 1.5 * iqr\n",
    "\n",
    "# Calculate 99th percentile\n",
    "perc_99 = data[\"amt\"].quantile(0.99)\n",
    "\n",
    "# Maximum value\n",
    "max_val = data[\"amt\"].max()\n",
    "\n",
    "# Print all values\n",
    "print(f\"  Q1 (25th percentile): {q1:.2f}\")\n",
    "print(f\"  Q3 (75th percentile): {q3:.2f}\")\n",
    "print(f\"  IQR (Q3 - Q1): {iqr:.2f}\")\n",
    "print(f\"  Upper limit using IQR (Q3 + 1.5*IQR): {upper_iqr_limit:.2f}\")\n",
    "print(f\"  99th percentile: {perc_99:.2f}\")\n",
    "print(f\"  Max value: {max_val:.2f}\")\n"
   ]
  },
  {
   "cell_type": "markdown",
   "id": "b4f60674",
   "metadata": {},
   "source": [
    "The 99th percentile is almost 3x the IQR limit, and the max value is ~70x above Q3."
   ]
  },
  {
   "cell_type": "code",
   "execution_count": 103,
   "id": "a4df14e8",
   "metadata": {},
   "outputs": [],
   "source": [
    "cap_val = data['amt'].quantile(0.99)\n",
    "data['amt'] = np.minimum(data['amt'], cap_val)\n",
    "data[f'log_amt'] = np.log1p(data['amt'])"
   ]
  },
  {
   "cell_type": "code",
   "execution_count": 104,
   "id": "f89a5a6d",
   "metadata": {},
   "outputs": [
    {
     "data": {
      "image/png": "[encoded data removed]",
      "text/plain": [
       "<Figure size 1200x600 with 2 Axes>"
      ]
     },
     "metadata": {},
     "output_type": "display_data"
    }
   ],
   "source": [
    "fig, axs = plt.subplots(1, 2, figsize=(12, 6))\n",
    "\n",
    "sns.boxplot(y=data['amt'], ax=axs[0], color='#C1D82F')\n",
    "axs[0].set_title('Boxplot of Capped Amount (amt)')\n",
    "axs[0].set_ylabel('Amount')\n",
    "axs[0].set_xlabel('amt')\n",
    "\n",
    "sns.boxplot(y=data['log_amt'], ax=axs[1], color='#C1D82F')\n",
    "axs[1].set_title('Boxplot of Log-transformed Amount')\n",
    "axs[1].set_ylabel('Log(Amount + 1)')\n",
    "axs[1].set_xlabel('log_amt')\n",
    "\n",
    "plt.tight_layout()\n",
    "plt.show()"
   ]
  },
  {
   "cell_type": "markdown",
   "id": "99c93f36",
   "metadata": {},
   "source": [
    "## 3.6 Encoding"
   ]
  },
  {
   "cell_type": "markdown",
   "id": "60fb7273",
   "metadata": {},
   "source": [
    "__`Step 1`__ One hot encoding for low cardinality"
   ]
  },
  {
   "cell_type": "code",
   "execution_count": 107,
   "id": "9e9a86b9",
   "metadata": {},
   "outputs": [],
   "source": [
    "data = pd.get_dummies(data, columns=categorical_features_low_cardinality, drop_first=True)\n",
    "dummy_cols = [col for col in data.columns if col.startswith('category_') or col.startswith('gender_') or col.startswith('is_weekend_')]\n",
    "data[dummy_cols] = data[dummy_cols].astype(int)"
   ]
  },
  {
   "cell_type": "code",
   "execution_count": 108,
   "id": "6a80607d",
   "metadata": {},
   "outputs": [
    {
     "data": {
      "text/html": [
       "<div>\n",
       "<style scoped>\n",
       "    .dataframe tbody tr th:only-of-type {\n",
       "        vertical-align: middle;\n",
       "    }\n",
       "\n",
       "    .dataframe tbody tr th {\n",
       "        vertical-align: top;\n",
       "    }\n",
       "\n",
       "    .dataframe thead th {\n",
       "        text-align: right;\n",
       "    }\n",
       "</style>\n",
       "<table border=\"1\" class=\"dataframe\">\n",
       "  <thead>\n",
       "    <tr style=\"text-align: right;\">\n",
       "      <th></th>\n",
       "      <th>trans_date_trans_time</th>\n",
       "      <th>cc_num</th>\n",
       "      <th>amt</th>\n",
       "      <th>last</th>\n",
       "      <th>street</th>\n",
       "      <th>city</th>\n",
       "      <th>state</th>\n",
       "      <th>zip</th>\n",
       "      <th>lat</th>\n",
       "      <th>long</th>\n",
       "      <th>...</th>\n",
       "      <th>category_health_fitness</th>\n",
       "      <th>category_home</th>\n",
       "      <th>category_kids_pets</th>\n",
       "      <th>category_misc_net</th>\n",
       "      <th>category_misc_pos</th>\n",
       "      <th>category_personal_care</th>\n",
       "      <th>category_shopping_net</th>\n",
       "      <th>category_shopping_pos</th>\n",
       "      <th>category_travel</th>\n",
       "      <th>gender_M</th>\n",
       "    </tr>\n",
       "  </thead>\n",
       "  <tbody>\n",
       "    <tr>\n",
       "      <th>0</th>\n",
       "      <td>2019-05-04 11:57:04</td>\n",
       "      <td>4586260469584</td>\n",
       "      <td>5.96</td>\n",
       "      <td>Thompson</td>\n",
       "      <td>0362 Anderson Wall</td>\n",
       "      <td>Mound City</td>\n",
       "      <td>MO</td>\n",
       "      <td>64470</td>\n",
       "      <td>40.1362</td>\n",
       "      <td>-95.2138</td>\n",
       "      <td>...</td>\n",
       "      <td>0</td>\n",
       "      <td>0</td>\n",
       "      <td>0</td>\n",
       "      <td>1</td>\n",
       "      <td>0</td>\n",
       "      <td>0</td>\n",
       "      <td>0</td>\n",
       "      <td>0</td>\n",
       "      <td>0</td>\n",
       "      <td>0</td>\n",
       "    </tr>\n",
       "    <tr>\n",
       "      <th>1</th>\n",
       "      <td>2019-12-14 08:55:21</td>\n",
       "      <td>4900628639996</td>\n",
       "      <td>70.66</td>\n",
       "      <td>Johnson</td>\n",
       "      <td>094 Owens Underpass</td>\n",
       "      <td>Norwalk</td>\n",
       "      <td>CA</td>\n",
       "      <td>90650</td>\n",
       "      <td>33.9056</td>\n",
       "      <td>-118.0818</td>\n",
       "      <td>...</td>\n",
       "      <td>0</td>\n",
       "      <td>0</td>\n",
       "      <td>0</td>\n",
       "      <td>0</td>\n",
       "      <td>0</td>\n",
       "      <td>0</td>\n",
       "      <td>0</td>\n",
       "      <td>0</td>\n",
       "      <td>0</td>\n",
       "      <td>1</td>\n",
       "    </tr>\n",
       "    <tr>\n",
       "      <th>2</th>\n",
       "      <td>2019-03-30 05:21:33</td>\n",
       "      <td>676118385837</td>\n",
       "      <td>50.92</td>\n",
       "      <td>Wise</td>\n",
       "      <td>674 Maureen Summit Apt. 276</td>\n",
       "      <td>Scotts Mills</td>\n",
       "      <td>OR</td>\n",
       "      <td>97375</td>\n",
       "      <td>44.9897</td>\n",
       "      <td>-122.6187</td>\n",
       "      <td>...</td>\n",
       "      <td>0</td>\n",
       "      <td>0</td>\n",
       "      <td>0</td>\n",
       "      <td>0</td>\n",
       "      <td>0</td>\n",
       "      <td>0</td>\n",
       "      <td>0</td>\n",
       "      <td>0</td>\n",
       "      <td>0</td>\n",
       "      <td>0</td>\n",
       "    </tr>\n",
       "    <tr>\n",
       "      <th>3</th>\n",
       "      <td>2019-09-19 07:09:46</td>\n",
       "      <td>3596357274378601</td>\n",
       "      <td>71.68</td>\n",
       "      <td>Everett</td>\n",
       "      <td>4138 David Fall</td>\n",
       "      <td>Morrisdale</td>\n",
       "      <td>PA</td>\n",
       "      <td>16858</td>\n",
       "      <td>41.0001</td>\n",
       "      <td>-78.2357</td>\n",
       "      <td>...</td>\n",
       "      <td>0</td>\n",
       "      <td>0</td>\n",
       "      <td>0</td>\n",
       "      <td>0</td>\n",
       "      <td>0</td>\n",
       "      <td>0</td>\n",
       "      <td>0</td>\n",
       "      <td>0</td>\n",
       "      <td>0</td>\n",
       "      <td>1</td>\n",
       "    </tr>\n",
       "    <tr>\n",
       "      <th>4</th>\n",
       "      <td>2019-02-04 20:37:44</td>\n",
       "      <td>6011542681743618</td>\n",
       "      <td>29.17</td>\n",
       "      <td>Hall</td>\n",
       "      <td>8851 Reese Neck</td>\n",
       "      <td>Basye</td>\n",
       "      <td>VA</td>\n",
       "      <td>22810</td>\n",
       "      <td>38.8089</td>\n",
       "      <td>-78.7776</td>\n",
       "      <td>...</td>\n",
       "      <td>0</td>\n",
       "      <td>0</td>\n",
       "      <td>0</td>\n",
       "      <td>0</td>\n",
       "      <td>0</td>\n",
       "      <td>1</td>\n",
       "      <td>0</td>\n",
       "      <td>0</td>\n",
       "      <td>0</td>\n",
       "      <td>0</td>\n",
       "    </tr>\n",
       "  </tbody>\n",
       "</table>\n",
       "<p>5 rows × 45 columns</p>\n",
       "</div>"
      ],
      "text/plain": [
       "  trans_date_trans_time            cc_num    amt      last  \\\n",
       "0   2019-05-04 11:57:04     4586260469584   5.96  Thompson   \n",
       "1   2019-12-14 08:55:21     4900628639996  70.66   Johnson   \n",
       "2   2019-03-30 05:21:33      676118385837  50.92      Wise   \n",
       "3   2019-09-19 07:09:46  3596357274378601  71.68   Everett   \n",
       "4   2019-02-04 20:37:44  6011542681743618  29.17      Hall   \n",
       "\n",
       "                        street          city state    zip      lat      long  \\\n",
       "0           0362 Anderson Wall    Mound City    MO  64470  40.1362  -95.2138   \n",
       "1          094 Owens Underpass       Norwalk    CA  90650  33.9056 -118.0818   \n",
       "2  674 Maureen Summit Apt. 276  Scotts Mills    OR  97375  44.9897 -122.6187   \n",
       "3              4138 David Fall    Morrisdale    PA  16858  41.0001  -78.2357   \n",
       "4              8851 Reese Neck         Basye    VA  22810  38.8089  -78.7776   \n",
       "\n",
       "   ...  category_health_fitness category_home category_kids_pets  \\\n",
       "0  ...                        0             0                  0   \n",
       "1  ...                        0             0                  0   \n",
       "2  ...                        0             0                  0   \n",
       "3  ...                        0             0                  0   \n",
       "4  ...                        0             0                  0   \n",
       "\n",
       "  category_misc_net  category_misc_pos  category_personal_care  \\\n",
       "0                 1                  0                       0   \n",
       "1                 0                  0                       0   \n",
       "2                 0                  0                       0   \n",
       "3                 0                  0                       0   \n",
       "4                 0                  0                       1   \n",
       "\n",
       "   category_shopping_net  category_shopping_pos  category_travel  gender_M  \n",
       "0                      0                      0                0         0  \n",
       "1                      0                      0                0         1  \n",
       "2                      0                      0                0         0  \n",
       "3                      0                      0                0         1  \n",
       "4                      0                      0                0         0  \n",
       "\n",
       "[5 rows x 45 columns]"
      ]
     },
     "execution_count": 108,
     "metadata": {},
     "output_type": "execute_result"
    }
   ],
   "source": [
    "data.head()"
   ]
  },
  {
   "cell_type": "markdown",
   "id": "fb4e5740",
   "metadata": {},
   "source": [
    "__`Step 2`__ Frequency encoding for high cardinality"
   ]
  },
  {
   "cell_type": "code",
   "execution_count": 109,
   "id": "ddc1aed0",
   "metadata": {},
   "outputs": [],
   "source": [
    "for col in categorical_features_high_cardinality:\n",
    "    freq = data[col].value_counts(normalize=True)\n",
    "    data[col + '_freq'] = data[col].map(freq)"
   ]
  },
  {
   "cell_type": "code",
   "execution_count": 110,
   "id": "4a0f7f64",
   "metadata": {},
   "outputs": [
    {
     "data": {
      "text/html": [
       "<div>\n",
       "<style scoped>\n",
       "    .dataframe tbody tr th:only-of-type {\n",
       "        vertical-align: middle;\n",
       "    }\n",
       "\n",
       "    .dataframe tbody tr th {\n",
       "        vertical-align: top;\n",
       "    }\n",
       "\n",
       "    .dataframe thead th {\n",
       "        text-align: right;\n",
       "    }\n",
       "</style>\n",
       "<table border=\"1\" class=\"dataframe\">\n",
       "  <thead>\n",
       "    <tr style=\"text-align: right;\">\n",
       "      <th></th>\n",
       "      <th>trans_date_trans_time</th>\n",
       "      <th>cc_num</th>\n",
       "      <th>amt</th>\n",
       "      <th>last</th>\n",
       "      <th>street</th>\n",
       "      <th>city</th>\n",
       "      <th>state</th>\n",
       "      <th>zip</th>\n",
       "      <th>lat</th>\n",
       "      <th>long</th>\n",
       "      <th>...</th>\n",
       "      <th>gender_M</th>\n",
       "      <th>last_freq</th>\n",
       "      <th>street_freq</th>\n",
       "      <th>city_freq</th>\n",
       "      <th>state_freq</th>\n",
       "      <th>zip_freq</th>\n",
       "      <th>job_freq</th>\n",
       "      <th>unix_time_freq</th>\n",
       "      <th>merch_zipcode_freq</th>\n",
       "      <th>state_grouped_freq</th>\n",
       "    </tr>\n",
       "  </thead>\n",
       "  <tbody>\n",
       "    <tr>\n",
       "      <th>0</th>\n",
       "      <td>2019-05-04 11:57:04</td>\n",
       "      <td>4586260469584</td>\n",
       "      <td>5.96</td>\n",
       "      <td>Thompson</td>\n",
       "      <td>0362 Anderson Wall</td>\n",
       "      <td>Mound City</td>\n",
       "      <td>MO</td>\n",
       "      <td>64470</td>\n",
       "      <td>40.1362</td>\n",
       "      <td>-95.2138</td>\n",
       "      <td>...</td>\n",
       "      <td>0</td>\n",
       "      <td>0.004539</td>\n",
       "      <td>0.001708</td>\n",
       "      <td>0.001708</td>\n",
       "      <td>0.029052</td>\n",
       "      <td>0.001708</td>\n",
       "      <td>0.001730</td>\n",
       "      <td>0.000011</td>\n",
       "      <td>0.000022</td>\n",
       "      <td>0.029052</td>\n",
       "    </tr>\n",
       "    <tr>\n",
       "      <th>1</th>\n",
       "      <td>2019-12-14 08:55:21</td>\n",
       "      <td>4900628639996</td>\n",
       "      <td>70.66</td>\n",
       "      <td>Johnson</td>\n",
       "      <td>094 Owens Underpass</td>\n",
       "      <td>Norwalk</td>\n",
       "      <td>CA</td>\n",
       "      <td>90650</td>\n",
       "      <td>33.9056</td>\n",
       "      <td>-118.0818</td>\n",
       "      <td>...</td>\n",
       "      <td>1</td>\n",
       "      <td>0.015512</td>\n",
       "      <td>0.002060</td>\n",
       "      <td>0.002523</td>\n",
       "      <td>0.043639</td>\n",
       "      <td>0.002060</td>\n",
       "      <td>0.004605</td>\n",
       "      <td>0.000011</td>\n",
       "      <td>0.000011</td>\n",
       "      <td>0.043639</td>\n",
       "    </tr>\n",
       "    <tr>\n",
       "      <th>2</th>\n",
       "      <td>2019-03-30 05:21:33</td>\n",
       "      <td>676118385837</td>\n",
       "      <td>50.92</td>\n",
       "      <td>Wise</td>\n",
       "      <td>674 Maureen Summit Apt. 276</td>\n",
       "      <td>Scotts Mills</td>\n",
       "      <td>OR</td>\n",
       "      <td>97375</td>\n",
       "      <td>44.9897</td>\n",
       "      <td>-122.6187</td>\n",
       "      <td>...</td>\n",
       "      <td>0</td>\n",
       "      <td>0.000617</td>\n",
       "      <td>0.000617</td>\n",
       "      <td>0.000617</td>\n",
       "      <td>0.014388</td>\n",
       "      <td>0.000617</td>\n",
       "      <td>0.001895</td>\n",
       "      <td>0.000011</td>\n",
       "      <td>0.000044</td>\n",
       "      <td>0.014388</td>\n",
       "    </tr>\n",
       "    <tr>\n",
       "      <th>3</th>\n",
       "      <td>2019-09-19 07:09:46</td>\n",
       "      <td>3596357274378601</td>\n",
       "      <td>71.68</td>\n",
       "      <td>Everett</td>\n",
       "      <td>4138 David Fall</td>\n",
       "      <td>Morrisdale</td>\n",
       "      <td>PA</td>\n",
       "      <td>16858</td>\n",
       "      <td>41.0001</td>\n",
       "      <td>-78.2357</td>\n",
       "      <td>...</td>\n",
       "      <td>1</td>\n",
       "      <td>0.001553</td>\n",
       "      <td>0.001553</td>\n",
       "      <td>0.002336</td>\n",
       "      <td>0.062721</td>\n",
       "      <td>0.002336</td>\n",
       "      <td>0.002005</td>\n",
       "      <td>0.000011</td>\n",
       "      <td>0.000188</td>\n",
       "      <td>0.062721</td>\n",
       "    </tr>\n",
       "    <tr>\n",
       "      <th>4</th>\n",
       "      <td>2019-02-04 20:37:44</td>\n",
       "      <td>6011542681743618</td>\n",
       "      <td>29.17</td>\n",
       "      <td>Hall</td>\n",
       "      <td>8851 Reese Neck</td>\n",
       "      <td>Basye</td>\n",
       "      <td>VA</td>\n",
       "      <td>22810</td>\n",
       "      <td>38.8089</td>\n",
       "      <td>-78.7776</td>\n",
       "      <td>...</td>\n",
       "      <td>0</td>\n",
       "      <td>0.003151</td>\n",
       "      <td>0.001708</td>\n",
       "      <td>0.001708</td>\n",
       "      <td>0.022662</td>\n",
       "      <td>0.001708</td>\n",
       "      <td>0.003063</td>\n",
       "      <td>0.000011</td>\n",
       "      <td>0.000066</td>\n",
       "      <td>0.022662</td>\n",
       "    </tr>\n",
       "  </tbody>\n",
       "</table>\n",
       "<p>5 rows × 54 columns</p>\n",
       "</div>"
      ],
      "text/plain": [
       "  trans_date_trans_time            cc_num    amt      last  \\\n",
       "0   2019-05-04 11:57:04     4586260469584   5.96  Thompson   \n",
       "1   2019-12-14 08:55:21     4900628639996  70.66   Johnson   \n",
       "2   2019-03-30 05:21:33      676118385837  50.92      Wise   \n",
       "3   2019-09-19 07:09:46  3596357274378601  71.68   Everett   \n",
       "4   2019-02-04 20:37:44  6011542681743618  29.17      Hall   \n",
       "\n",
       "                        street          city state    zip      lat      long  \\\n",
       "0           0362 Anderson Wall    Mound City    MO  64470  40.1362  -95.2138   \n",
       "1          094 Owens Underpass       Norwalk    CA  90650  33.9056 -118.0818   \n",
       "2  674 Maureen Summit Apt. 276  Scotts Mills    OR  97375  44.9897 -122.6187   \n",
       "3              4138 David Fall    Morrisdale    PA  16858  41.0001  -78.2357   \n",
       "4              8851 Reese Neck         Basye    VA  22810  38.8089  -78.7776   \n",
       "\n",
       "   ...  gender_M last_freq street_freq city_freq  state_freq  zip_freq  \\\n",
       "0  ...         0  0.004539    0.001708  0.001708    0.029052  0.001708   \n",
       "1  ...         1  0.015512    0.002060  0.002523    0.043639  0.002060   \n",
       "2  ...         0  0.000617    0.000617  0.000617    0.014388  0.000617   \n",
       "3  ...         1  0.001553    0.001553  0.002336    0.062721  0.002336   \n",
       "4  ...         0  0.003151    0.001708  0.001708    0.022662  0.001708   \n",
       "\n",
       "   job_freq  unix_time_freq  merch_zipcode_freq  state_grouped_freq  \n",
       "0  0.001730        0.000011            0.000022            0.029052  \n",
       "1  0.004605        0.000011            0.000011            0.043639  \n",
       "2  0.001895        0.000011            0.000044            0.014388  \n",
       "3  0.002005        0.000011            0.000188            0.062721  \n",
       "4  0.003063        0.000011            0.000066            0.022662  \n",
       "\n",
       "[5 rows x 54 columns]"
      ]
     },
     "execution_count": 110,
     "metadata": {},
     "output_type": "execute_result"
    }
   ],
   "source": [
    "data.head()"
   ]
  },
  {
   "cell_type": "markdown",
   "id": "8ff8d3b4",
   "metadata": {},
   "source": [
    "__`Step 3`__ Cyclic Encoding for time features"
   ]
  },
  {
   "cell_type": "code",
   "execution_count": 111,
   "id": "d867d65c",
   "metadata": {},
   "outputs": [],
   "source": [
    "data['hour_sin'] = np.sin(2 * np.pi * data['hour'] / 24)\n",
    "data['hour_cos'] = np.cos(2 * np.pi * data['hour'] / 24)\n",
    "\n",
    "data['weekday_sin'] = np.sin(2 * np.pi * data['weekday'] / 7)\n",
    "data['weekday_cos'] = np.cos(2 * np.pi * data['weekday'] / 7)\n",
    "\n",
    "data['month_sin'] = np.sin(2 * np.pi * data['month'] / 12)\n",
    "data['month_cos'] = np.cos(2 * np.pi * data['month'] / 12)\n",
    "\n",
    "data['day_sin'] = np.sin(2 * np.pi * data['day'] / 31)\n",
    "data['day_cos'] = np.cos(2 * np.pi * data['day'] / 31)"
   ]
  },
  {
   "cell_type": "markdown",
   "id": "28ddfb4e",
   "metadata": {},
   "source": [
    "## 3.7 Scaling"
   ]
  },
  {
   "cell_type": "code",
   "execution_count": 117,
   "id": "5ed2fc93",
   "metadata": {},
   "outputs": [],
   "source": [
    "scaler = StandardScaler()\n",
    "data[numerical_features] = scaler.fit_transform(data[numerical_features])"
   ]
  }
 ],
 "metadata": {
  "kernelspec": {
   "display_name": "Python 3",
   "language": "python",
   "name": "python3"
  },
  "language_info": {
   "codemirror_mode": {
    "name": "ipython",
    "version": 3
   },
   "file_extension": ".py",
   "mimetype": "text/x-python",
   "name": "python",
   "nbconvert_exporter": "python",
   "pygments_lexer": "ipython3",
   "version": "3.11.0"
  }
 },
 "nbformat": 4,
 "nbformat_minor": 5
}
